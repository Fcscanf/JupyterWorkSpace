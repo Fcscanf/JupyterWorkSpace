{
 "cells": [
  {
   "cell_type": "code",
   "execution_count": 1,
   "id": "initial_id",
   "metadata": {
    "collapsed": true,
    "ExecuteTime": {
     "end_time": "2023-12-28T13:20:24.077416100Z",
     "start_time": "2023-12-28T13:20:23.590565900Z"
    }
   },
   "outputs": [
    {
     "data": {
      "text/plain": "    store product_group  product_code    cost    price  last_week_sales\n0  Violet           PG2          4187  420.76   569.91               13\n1    Rose           PG2          4195  545.64   712.41               16\n2  Violet           PG2          4204  640.42   854.91               22\n3   Daisy           PG2          4219  869.69  1034.55               14\n4   Daisy           PG2          4718   12.54    26.59               50",
      "text/html": "<div>\n<style scoped>\n    .dataframe tbody tr th:only-of-type {\n        vertical-align: middle;\n    }\n\n    .dataframe tbody tr th {\n        vertical-align: top;\n    }\n\n    .dataframe thead th {\n        text-align: right;\n    }\n</style>\n<table border=\"1\" class=\"dataframe\">\n  <thead>\n    <tr style=\"text-align: right;\">\n      <th></th>\n      <th>store</th>\n      <th>product_group</th>\n      <th>product_code</th>\n      <th>cost</th>\n      <th>price</th>\n      <th>last_week_sales</th>\n    </tr>\n  </thead>\n  <tbody>\n    <tr>\n      <th>0</th>\n      <td>Violet</td>\n      <td>PG2</td>\n      <td>4187</td>\n      <td>420.76</td>\n      <td>569.91</td>\n      <td>13</td>\n    </tr>\n    <tr>\n      <th>1</th>\n      <td>Rose</td>\n      <td>PG2</td>\n      <td>4195</td>\n      <td>545.64</td>\n      <td>712.41</td>\n      <td>16</td>\n    </tr>\n    <tr>\n      <th>2</th>\n      <td>Violet</td>\n      <td>PG2</td>\n      <td>4204</td>\n      <td>640.42</td>\n      <td>854.91</td>\n      <td>22</td>\n    </tr>\n    <tr>\n      <th>3</th>\n      <td>Daisy</td>\n      <td>PG2</td>\n      <td>4219</td>\n      <td>869.69</td>\n      <td>1034.55</td>\n      <td>14</td>\n    </tr>\n    <tr>\n      <th>4</th>\n      <td>Daisy</td>\n      <td>PG2</td>\n      <td>4718</td>\n      <td>12.54</td>\n      <td>26.59</td>\n      <td>50</td>\n    </tr>\n  </tbody>\n</table>\n</div>"
     },
     "execution_count": 1,
     "metadata": {},
     "output_type": "execute_result"
    }
   ],
   "source": [
    "import pandas as pd\n",
    "import sidetable\n",
    "\n",
    "sales = pd.read_csv(\n",
    "    \"sales_data_with_stores.csv\",\n",
    "    usecols = [\"store\", \"product_group\", \"product_code\", \"cost\",\n",
    "               \"price\", \"last_week_sales\"]\n",
    ")\n",
    "sales.head()"
   ]
  },
  {
   "cell_type": "code",
   "execution_count": 2,
   "outputs": [
    {
     "data": {
      "text/plain": "  product_group  count  percent  cumulative_count  cumulative_percent\n0           PG4    349     34.9               349                34.9\n1           PG5    255     25.5               604                60.4\n2           PG6    243     24.3               847                84.7\n3           PG2     75      7.5               922                92.2\n4           PG3     39      3.9               961                96.1\n5           PG1     39      3.9              1000               100.0",
      "text/html": "<div>\n<style scoped>\n    .dataframe tbody tr th:only-of-type {\n        vertical-align: middle;\n    }\n\n    .dataframe tbody tr th {\n        vertical-align: top;\n    }\n\n    .dataframe thead th {\n        text-align: right;\n    }\n</style>\n<table border=\"1\" class=\"dataframe\">\n  <thead>\n    <tr style=\"text-align: right;\">\n      <th></th>\n      <th>product_group</th>\n      <th>count</th>\n      <th>percent</th>\n      <th>cumulative_count</th>\n      <th>cumulative_percent</th>\n    </tr>\n  </thead>\n  <tbody>\n    <tr>\n      <th>0</th>\n      <td>PG4</td>\n      <td>349</td>\n      <td>34.9</td>\n      <td>349</td>\n      <td>34.9</td>\n    </tr>\n    <tr>\n      <th>1</th>\n      <td>PG5</td>\n      <td>255</td>\n      <td>25.5</td>\n      <td>604</td>\n      <td>60.4</td>\n    </tr>\n    <tr>\n      <th>2</th>\n      <td>PG6</td>\n      <td>243</td>\n      <td>24.3</td>\n      <td>847</td>\n      <td>84.7</td>\n    </tr>\n    <tr>\n      <th>3</th>\n      <td>PG2</td>\n      <td>75</td>\n      <td>7.5</td>\n      <td>922</td>\n      <td>92.2</td>\n    </tr>\n    <tr>\n      <th>4</th>\n      <td>PG3</td>\n      <td>39</td>\n      <td>3.9</td>\n      <td>961</td>\n      <td>96.1</td>\n    </tr>\n    <tr>\n      <th>5</th>\n      <td>PG1</td>\n      <td>39</td>\n      <td>3.9</td>\n      <td>1000</td>\n      <td>100.0</td>\n    </tr>\n  </tbody>\n</table>\n</div>"
     },
     "execution_count": 2,
     "metadata": {},
     "output_type": "execute_result"
    }
   ],
   "source": [
    "sales.stb.freq([\"product_group\"])"
   ],
   "metadata": {
    "collapsed": false,
    "ExecuteTime": {
     "end_time": "2023-12-28T13:22:22.117343Z",
     "start_time": "2023-12-28T13:22:22.062344100Z"
    }
   },
   "id": "be135f191eb12746"
  },
  {
   "cell_type": "code",
   "execution_count": 3,
   "outputs": [
    {
     "data": {
      "text/plain": "  product_group  last_week_sales    percent  cumulative_last_week_sales  \\\n0           PG6            28125  36.564913                       28125   \n1           PG5            21343  27.747731                       49468   \n2           PG4            16064  20.884578                       65532   \n3           PG2             6133   7.973426                       71665   \n4           PG3             3871   5.032632                       75536   \n5           PG1             1382   1.796719                       76918   \n\n   cumulative_percent  \n0           36.564913  \n1           64.312645  \n2           85.197223  \n3           93.170649  \n4           98.203281  \n5          100.000000  ",
      "text/html": "<div>\n<style scoped>\n    .dataframe tbody tr th:only-of-type {\n        vertical-align: middle;\n    }\n\n    .dataframe tbody tr th {\n        vertical-align: top;\n    }\n\n    .dataframe thead th {\n        text-align: right;\n    }\n</style>\n<table border=\"1\" class=\"dataframe\">\n  <thead>\n    <tr style=\"text-align: right;\">\n      <th></th>\n      <th>product_group</th>\n      <th>last_week_sales</th>\n      <th>percent</th>\n      <th>cumulative_last_week_sales</th>\n      <th>cumulative_percent</th>\n    </tr>\n  </thead>\n  <tbody>\n    <tr>\n      <th>0</th>\n      <td>PG6</td>\n      <td>28125</td>\n      <td>36.564913</td>\n      <td>28125</td>\n      <td>36.564913</td>\n    </tr>\n    <tr>\n      <th>1</th>\n      <td>PG5</td>\n      <td>21343</td>\n      <td>27.747731</td>\n      <td>49468</td>\n      <td>64.312645</td>\n    </tr>\n    <tr>\n      <th>2</th>\n      <td>PG4</td>\n      <td>16064</td>\n      <td>20.884578</td>\n      <td>65532</td>\n      <td>85.197223</td>\n    </tr>\n    <tr>\n      <th>3</th>\n      <td>PG2</td>\n      <td>6133</td>\n      <td>7.973426</td>\n      <td>71665</td>\n      <td>93.170649</td>\n    </tr>\n    <tr>\n      <th>4</th>\n      <td>PG3</td>\n      <td>3871</td>\n      <td>5.032632</td>\n      <td>75536</td>\n      <td>98.203281</td>\n    </tr>\n    <tr>\n      <th>5</th>\n      <td>PG1</td>\n      <td>1382</td>\n      <td>1.796719</td>\n      <td>76918</td>\n      <td>100.000000</td>\n    </tr>\n  </tbody>\n</table>\n</div>"
     },
     "execution_count": 3,
     "metadata": {},
     "output_type": "execute_result"
    }
   ],
   "source": [
    "sales.stb.freq([\"product_group\"], value=\"last_week_sales\")"
   ],
   "metadata": {
    "collapsed": false,
    "ExecuteTime": {
     "end_time": "2023-12-28T13:23:25.206206300Z",
     "start_time": "2023-12-28T13:23:25.165227800Z"
    }
   },
   "id": "fe942e02fc730a3b"
  },
  {
   "cell_type": "code",
   "execution_count": 4,
   "outputs": [
    {
     "data": {
      "text/plain": "   product_group   store  last_week_sales    percent  \\\n0            PG6  Violet            13687  17.794274   \n1            PG6   Daisy            11433  14.863881   \n2            PG5  Violet             9287  12.073897   \n3            PG4   Daisy             7572   9.844250   \n4            PG5   Daisy             7295   9.484126   \n5            PG4  Violet             5604   7.285681   \n6            PG5    Rose             4761   6.189709   \n7            PG6    Rose             3005   3.906758   \n8            PG2  Violet             2982   3.876856   \n9            PG4    Rose             2888   3.754648   \n10           PG3   Daisy             2225   2.892691   \n11           PG2   Daisy             1871   2.432461   \n12           PG2    Rose             1280   1.664110   \n13           PG1   Daisy              880   1.144076   \n14           PG3  Violet              838   1.089472   \n15           PG3    Rose              808   1.050469   \n16           PG1  Violet              340   0.442029   \n17           PG1    Rose              162   0.210614   \n\n    cumulative_last_week_sales  cumulative_percent  \n0                        13687           17.794274  \n1                        25120           32.658155  \n2                        34407           44.732052  \n3                        41979           54.576302  \n4                        49274           64.060428  \n5                        54878           71.346109  \n6                        59639           77.535817  \n7                        62644           81.442575  \n8                        65626           85.319431  \n9                        68514           89.074079  \n10                       70739           91.966770  \n11                       72610           94.399230  \n12                       73890           96.063340  \n13                       74770           97.207416  \n14                       75608           98.296888  \n15                       76416           99.347357  \n16                       76756           99.789386  \n17                       76918          100.000000  ",
      "text/html": "<div>\n<style scoped>\n    .dataframe tbody tr th:only-of-type {\n        vertical-align: middle;\n    }\n\n    .dataframe tbody tr th {\n        vertical-align: top;\n    }\n\n    .dataframe thead th {\n        text-align: right;\n    }\n</style>\n<table border=\"1\" class=\"dataframe\">\n  <thead>\n    <tr style=\"text-align: right;\">\n      <th></th>\n      <th>product_group</th>\n      <th>store</th>\n      <th>last_week_sales</th>\n      <th>percent</th>\n      <th>cumulative_last_week_sales</th>\n      <th>cumulative_percent</th>\n    </tr>\n  </thead>\n  <tbody>\n    <tr>\n      <th>0</th>\n      <td>PG6</td>\n      <td>Violet</td>\n      <td>13687</td>\n      <td>17.794274</td>\n      <td>13687</td>\n      <td>17.794274</td>\n    </tr>\n    <tr>\n      <th>1</th>\n      <td>PG6</td>\n      <td>Daisy</td>\n      <td>11433</td>\n      <td>14.863881</td>\n      <td>25120</td>\n      <td>32.658155</td>\n    </tr>\n    <tr>\n      <th>2</th>\n      <td>PG5</td>\n      <td>Violet</td>\n      <td>9287</td>\n      <td>12.073897</td>\n      <td>34407</td>\n      <td>44.732052</td>\n    </tr>\n    <tr>\n      <th>3</th>\n      <td>PG4</td>\n      <td>Daisy</td>\n      <td>7572</td>\n      <td>9.844250</td>\n      <td>41979</td>\n      <td>54.576302</td>\n    </tr>\n    <tr>\n      <th>4</th>\n      <td>PG5</td>\n      <td>Daisy</td>\n      <td>7295</td>\n      <td>9.484126</td>\n      <td>49274</td>\n      <td>64.060428</td>\n    </tr>\n    <tr>\n      <th>5</th>\n      <td>PG4</td>\n      <td>Violet</td>\n      <td>5604</td>\n      <td>7.285681</td>\n      <td>54878</td>\n      <td>71.346109</td>\n    </tr>\n    <tr>\n      <th>6</th>\n      <td>PG5</td>\n      <td>Rose</td>\n      <td>4761</td>\n      <td>6.189709</td>\n      <td>59639</td>\n      <td>77.535817</td>\n    </tr>\n    <tr>\n      <th>7</th>\n      <td>PG6</td>\n      <td>Rose</td>\n      <td>3005</td>\n      <td>3.906758</td>\n      <td>62644</td>\n      <td>81.442575</td>\n    </tr>\n    <tr>\n      <th>8</th>\n      <td>PG2</td>\n      <td>Violet</td>\n      <td>2982</td>\n      <td>3.876856</td>\n      <td>65626</td>\n      <td>85.319431</td>\n    </tr>\n    <tr>\n      <th>9</th>\n      <td>PG4</td>\n      <td>Rose</td>\n      <td>2888</td>\n      <td>3.754648</td>\n      <td>68514</td>\n      <td>89.074079</td>\n    </tr>\n    <tr>\n      <th>10</th>\n      <td>PG3</td>\n      <td>Daisy</td>\n      <td>2225</td>\n      <td>2.892691</td>\n      <td>70739</td>\n      <td>91.966770</td>\n    </tr>\n    <tr>\n      <th>11</th>\n      <td>PG2</td>\n      <td>Daisy</td>\n      <td>1871</td>\n      <td>2.432461</td>\n      <td>72610</td>\n      <td>94.399230</td>\n    </tr>\n    <tr>\n      <th>12</th>\n      <td>PG2</td>\n      <td>Rose</td>\n      <td>1280</td>\n      <td>1.664110</td>\n      <td>73890</td>\n      <td>96.063340</td>\n    </tr>\n    <tr>\n      <th>13</th>\n      <td>PG1</td>\n      <td>Daisy</td>\n      <td>880</td>\n      <td>1.144076</td>\n      <td>74770</td>\n      <td>97.207416</td>\n    </tr>\n    <tr>\n      <th>14</th>\n      <td>PG3</td>\n      <td>Violet</td>\n      <td>838</td>\n      <td>1.089472</td>\n      <td>75608</td>\n      <td>98.296888</td>\n    </tr>\n    <tr>\n      <th>15</th>\n      <td>PG3</td>\n      <td>Rose</td>\n      <td>808</td>\n      <td>1.050469</td>\n      <td>76416</td>\n      <td>99.347357</td>\n    </tr>\n    <tr>\n      <th>16</th>\n      <td>PG1</td>\n      <td>Violet</td>\n      <td>340</td>\n      <td>0.442029</td>\n      <td>76756</td>\n      <td>99.789386</td>\n    </tr>\n    <tr>\n      <th>17</th>\n      <td>PG1</td>\n      <td>Rose</td>\n      <td>162</td>\n      <td>0.210614</td>\n      <td>76918</td>\n      <td>100.000000</td>\n    </tr>\n  </tbody>\n</table>\n</div>"
     },
     "execution_count": 4,
     "metadata": {},
     "output_type": "execute_result"
    }
   ],
   "source": [
    "sales.stb.freq([\"product_group\", \"store\"], value=\"last_week_sales\")"
   ],
   "metadata": {
    "collapsed": false,
    "ExecuteTime": {
     "end_time": "2023-12-28T13:24:52.156666100Z",
     "start_time": "2023-12-28T13:24:52.123755900Z"
    }
   },
   "id": "4f60657abcec2272"
  },
  {
   "cell_type": "code",
   "execution_count": 5,
   "outputs": [
    {
     "data": {
      "text/plain": "                 missing  total  percent\nstore                  0   1000      0.0\nproduct_group          0   1000      0.0\nproduct_code           0   1000      0.0\ncost                   0   1000      0.0\nprice                  0   1000      0.0\nlast_week_sales        0   1000      0.0",
      "text/html": "<div>\n<style scoped>\n    .dataframe tbody tr th:only-of-type {\n        vertical-align: middle;\n    }\n\n    .dataframe tbody tr th {\n        vertical-align: top;\n    }\n\n    .dataframe thead th {\n        text-align: right;\n    }\n</style>\n<table border=\"1\" class=\"dataframe\">\n  <thead>\n    <tr style=\"text-align: right;\">\n      <th></th>\n      <th>missing</th>\n      <th>total</th>\n      <th>percent</th>\n    </tr>\n  </thead>\n  <tbody>\n    <tr>\n      <th>store</th>\n      <td>0</td>\n      <td>1000</td>\n      <td>0.0</td>\n    </tr>\n    <tr>\n      <th>product_group</th>\n      <td>0</td>\n      <td>1000</td>\n      <td>0.0</td>\n    </tr>\n    <tr>\n      <th>product_code</th>\n      <td>0</td>\n      <td>1000</td>\n      <td>0.0</td>\n    </tr>\n    <tr>\n      <th>cost</th>\n      <td>0</td>\n      <td>1000</td>\n      <td>0.0</td>\n    </tr>\n    <tr>\n      <th>price</th>\n      <td>0</td>\n      <td>1000</td>\n      <td>0.0</td>\n    </tr>\n    <tr>\n      <th>last_week_sales</th>\n      <td>0</td>\n      <td>1000</td>\n      <td>0.0</td>\n    </tr>\n  </tbody>\n</table>\n</div>"
     },
     "execution_count": 5,
     "metadata": {},
     "output_type": "execute_result"
    }
   ],
   "source": [
    "sales.stb.missing()"
   ],
   "metadata": {
    "collapsed": false,
    "ExecuteTime": {
     "end_time": "2023-12-28T13:25:23.870472800Z",
     "start_time": "2023-12-28T13:25:23.829013600Z"
    }
   },
   "id": "111c5b61c555d751"
  },
  {
   "cell_type": "code",
   "execution_count": 6,
   "outputs": [
    {
     "data": {
      "text/plain": "                      total_sales\nstore  product_group             \nDaisy  PG1                    880\n       PG2                   1871\nRose   PG1                    162\n       PG2                   1280\nViolet PG1                    340\n       PG2                   2982",
      "text/html": "<div>\n<style scoped>\n    .dataframe tbody tr th:only-of-type {\n        vertical-align: middle;\n    }\n\n    .dataframe tbody tr th {\n        vertical-align: top;\n    }\n\n    .dataframe thead th {\n        text-align: right;\n    }\n</style>\n<table border=\"1\" class=\"dataframe\">\n  <thead>\n    <tr style=\"text-align: right;\">\n      <th></th>\n      <th></th>\n      <th>total_sales</th>\n    </tr>\n    <tr>\n      <th>store</th>\n      <th>product_group</th>\n      <th></th>\n    </tr>\n  </thead>\n  <tbody>\n    <tr>\n      <th rowspan=\"2\" valign=\"top\">Daisy</th>\n      <th>PG1</th>\n      <td>880</td>\n    </tr>\n    <tr>\n      <th>PG2</th>\n      <td>1871</td>\n    </tr>\n    <tr>\n      <th rowspan=\"2\" valign=\"top\">Rose</th>\n      <th>PG1</th>\n      <td>162</td>\n    </tr>\n    <tr>\n      <th>PG2</th>\n      <td>1280</td>\n    </tr>\n    <tr>\n      <th rowspan=\"2\" valign=\"top\">Violet</th>\n      <th>PG1</th>\n      <td>340</td>\n    </tr>\n    <tr>\n      <th>PG2</th>\n      <td>2982</td>\n    </tr>\n  </tbody>\n</table>\n</div>"
     },
     "execution_count": 6,
     "metadata": {},
     "output_type": "execute_result"
    }
   ],
   "source": [
    "sales_filtered = sales[sales[\"product_group\"].isin([\"PG1\", \"PG2\"])]\n",
    "sales_filtered.groupby([\"store\", \"product_group\"]).agg(\n",
    "    total_sales = (\"last_week_sales\", \"sum\")\n",
    ")"
   ],
   "metadata": {
    "collapsed": false,
    "ExecuteTime": {
     "end_time": "2023-12-28T13:25:58.908388600Z",
     "start_time": "2023-12-28T13:25:58.886217900Z"
    }
   },
   "id": "6db86b815c8f0585"
  },
  {
   "cell_type": "code",
   "execution_count": 7,
   "outputs": [
    {
     "data": {
      "text/plain": "                               total_sales\nstore       product_group                 \nDaisy       PG1                        880\n            PG2                       1871\n            Daisy - subtotal          2751\nRose        PG1                        162\n            PG2                       1280\n            Rose - subtotal           1442\nViolet      PG1                        340\n            PG2                       2982\n            Violet - subtotal         3322\ngrand_total                           7515",
      "text/html": "<div>\n<style scoped>\n    .dataframe tbody tr th:only-of-type {\n        vertical-align: middle;\n    }\n\n    .dataframe tbody tr th {\n        vertical-align: top;\n    }\n\n    .dataframe thead th {\n        text-align: right;\n    }\n</style>\n<table border=\"1\" class=\"dataframe\">\n  <thead>\n    <tr style=\"text-align: right;\">\n      <th></th>\n      <th></th>\n      <th>total_sales</th>\n    </tr>\n    <tr>\n      <th>store</th>\n      <th>product_group</th>\n      <th></th>\n    </tr>\n  </thead>\n  <tbody>\n    <tr>\n      <th rowspan=\"3\" valign=\"top\">Daisy</th>\n      <th>PG1</th>\n      <td>880</td>\n    </tr>\n    <tr>\n      <th>PG2</th>\n      <td>1871</td>\n    </tr>\n    <tr>\n      <th>Daisy - subtotal</th>\n      <td>2751</td>\n    </tr>\n    <tr>\n      <th rowspan=\"3\" valign=\"top\">Rose</th>\n      <th>PG1</th>\n      <td>162</td>\n    </tr>\n    <tr>\n      <th>PG2</th>\n      <td>1280</td>\n    </tr>\n    <tr>\n      <th>Rose - subtotal</th>\n      <td>1442</td>\n    </tr>\n    <tr>\n      <th rowspan=\"3\" valign=\"top\">Violet</th>\n      <th>PG1</th>\n      <td>340</td>\n    </tr>\n    <tr>\n      <th>PG2</th>\n      <td>2982</td>\n    </tr>\n    <tr>\n      <th>Violet - subtotal</th>\n      <td>3322</td>\n    </tr>\n    <tr>\n      <th>grand_total</th>\n      <th></th>\n      <td>7515</td>\n    </tr>\n  </tbody>\n</table>\n</div>"
     },
     "execution_count": 7,
     "metadata": {},
     "output_type": "execute_result"
    }
   ],
   "source": [
    "sales_filtered.groupby([\"store\", \"product_group\"]).agg(\n",
    "    total_sales = (\"last_week_sales\", \"sum\")\n",
    ").stb.subtotal()"
   ],
   "metadata": {
    "collapsed": false,
    "ExecuteTime": {
     "end_time": "2023-12-28T13:26:37.990157200Z",
     "start_time": "2023-12-28T13:26:37.959205100Z"
    }
   },
   "id": "90c75c4c0683bd0e"
  },
  {
   "cell_type": "code",
   "execution_count": 8,
   "outputs": [
    {
     "data": {
      "text/plain": "  animal  age\n0    dog   20\n1    cat   30",
      "text/html": "<div>\n<style scoped>\n    .dataframe tbody tr th:only-of-type {\n        vertical-align: middle;\n    }\n\n    .dataframe tbody tr th {\n        vertical-align: top;\n    }\n\n    .dataframe thead th {\n        text-align: right;\n    }\n</style>\n<table border=\"1\" class=\"dataframe\">\n  <thead>\n    <tr style=\"text-align: right;\">\n      <th></th>\n      <th>animal</th>\n      <th>age</th>\n    </tr>\n  </thead>\n  <tbody>\n    <tr>\n      <th>0</th>\n      <td>dog</td>\n      <td>20</td>\n    </tr>\n    <tr>\n      <th>1</th>\n      <td>cat</td>\n      <td>30</td>\n    </tr>\n  </tbody>\n</table>\n</div>"
     },
     "execution_count": 8,
     "metadata": {},
     "output_type": "execute_result"
    }
   ],
   "source": [
    "df = pd.DataFrame({\"animal\": [\"dog\", \"cat\"], \"age\": [20, 30]})\n",
    "df"
   ],
   "metadata": {
    "collapsed": false,
    "ExecuteTime": {
     "end_time": "2023-12-28T13:27:03.926474100Z",
     "start_time": "2023-12-28T13:27:03.894534300Z"
    }
   },
   "id": "9a6dde7f676da0d7"
  },
  {
   "cell_type": "code",
   "execution_count": 9,
   "outputs": [
    {
     "data": {
      "text/plain": "  animal  age  double_age\n0    dog   20          40\n1    cat   30          60",
      "text/html": "<div>\n<style scoped>\n    .dataframe tbody tr th:only-of-type {\n        vertical-align: middle;\n    }\n\n    .dataframe tbody tr th {\n        vertical-align: top;\n    }\n\n    .dataframe thead th {\n        text-align: right;\n    }\n</style>\n<table border=\"1\" class=\"dataframe\">\n  <thead>\n    <tr style=\"text-align: right;\">\n      <th></th>\n      <th>animal</th>\n      <th>age</th>\n      <th>double_age</th>\n    </tr>\n  </thead>\n  <tbody>\n    <tr>\n      <th>0</th>\n      <td>dog</td>\n      <td>20</td>\n      <td>40</td>\n    </tr>\n    <tr>\n      <th>1</th>\n      <td>cat</td>\n      <td>30</td>\n      <td>60</td>\n    </tr>\n  </tbody>\n</table>\n</div>"
     },
     "execution_count": 9,
     "metadata": {},
     "output_type": "execute_result"
    }
   ],
   "source": [
    "pd.eval(\"double_age = df.age * 2\", target=df)"
   ],
   "metadata": {
    "collapsed": false,
    "ExecuteTime": {
     "end_time": "2023-12-28T13:28:39.786551100Z",
     "start_time": "2023-12-28T13:28:39.771986300Z"
    }
   },
   "id": "755b0662e1a2fdde"
  },
  {
   "cell_type": "code",
   "execution_count": 10,
   "outputs": [
    {
     "data": {
      "text/plain": "   a  b   c   d\n0  5  5   5  10\n1  5  6   7  14\n2  5  7   9  18\n3  5  8  11  22\n4  5  9  13  26",
      "text/html": "<div>\n<style scoped>\n    .dataframe tbody tr th:only-of-type {\n        vertical-align: middle;\n    }\n\n    .dataframe tbody tr th {\n        vertical-align: top;\n    }\n\n    .dataframe thead th {\n        text-align: right;\n    }\n</style>\n<table border=\"1\" class=\"dataframe\">\n  <thead>\n    <tr style=\"text-align: right;\">\n      <th></th>\n      <th>a</th>\n      <th>b</th>\n      <th>c</th>\n      <th>d</th>\n    </tr>\n  </thead>\n  <tbody>\n    <tr>\n      <th>0</th>\n      <td>5</td>\n      <td>5</td>\n      <td>5</td>\n      <td>10</td>\n    </tr>\n    <tr>\n      <th>1</th>\n      <td>5</td>\n      <td>6</td>\n      <td>7</td>\n      <td>14</td>\n    </tr>\n    <tr>\n      <th>2</th>\n      <td>5</td>\n      <td>7</td>\n      <td>9</td>\n      <td>18</td>\n    </tr>\n    <tr>\n      <th>3</th>\n      <td>5</td>\n      <td>8</td>\n      <td>11</td>\n      <td>22</td>\n    </tr>\n    <tr>\n      <th>4</th>\n      <td>5</td>\n      <td>9</td>\n      <td>13</td>\n      <td>26</td>\n    </tr>\n  </tbody>\n</table>\n</div>"
     },
     "execution_count": 10,
     "metadata": {},
     "output_type": "execute_result"
    }
   ],
   "source": [
    "df = pd.DataFrame(dict(a=range(5), b=range(5, 10)))\n",
    "df.eval(\"c = a + b\", inplace=True)\n",
    "df.eval(\"d = a + b + c\", inplace=True)\n",
    "df.eval(\"a = 5\", inplace=True)\n",
    "df"
   ],
   "metadata": {
    "collapsed": false,
    "ExecuteTime": {
     "end_time": "2023-12-28T13:29:05.667813600Z",
     "start_time": "2023-12-28T13:29:05.643261400Z"
    }
   },
   "id": "5dd3dd13b81eadb2"
  }
 ],
 "metadata": {
  "kernelspec": {
   "display_name": "Python 3",
   "language": "python",
   "name": "python3"
  },
  "language_info": {
   "codemirror_mode": {
    "name": "ipython",
    "version": 2
   },
   "file_extension": ".py",
   "mimetype": "text/x-python",
   "name": "python",
   "nbconvert_exporter": "python",
   "pygments_lexer": "ipython2",
   "version": "2.7.6"
  }
 },
 "nbformat": 4,
 "nbformat_minor": 5
}
