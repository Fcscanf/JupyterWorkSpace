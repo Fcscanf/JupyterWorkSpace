{
 "cells": [
  {
   "cell_type": "code",
   "execution_count": null,
   "id": "a1255977-cf75-479f-81a2-5fbe7e8c9361",
   "metadata": {},
   "outputs": [],
   "source": [
    "import os\n",
    "import time\n",
    "import requests\n",
    "import imageio\n",
    "import cv2\n",
    "from PIL import Image\n",
    "# 抓取图片\n",
    "def get_pics(date, path):\n",
    "    year = date.split('-')[0]\n",
    "    mon = date.split('-')[1]\n",
    "    day = int(date.split('-')[2])\n",
    "    for i in range(24):\n",
    "        time.sleep(3)\n",
    "        # 08:00-24:00\n",
    "        if i < 17:\n",
    "            url = 'http://image.nmc.cn/product/{0}/{1}/{2:0>2d}/STFC/medium/SEVP_NMC_STFC_SFER_ET0_ACHN_L88_PB_{0}{1}{2:0>2d}{3:0>2d}0000000.jpg'.format(year, mon, day, i)\n",
    "            img = requests.get(url)\n",
    "            fiename = '{}{}h.png'.format(path, i + 8)\n",
    "            with open(fiename, 'ab') as f:\n",
    "                f.write(img.content)\n",
    "        # 01:00-07:00\n",
    "        else:\n",
    "            url = 'http://image.nmc.cn/product/{0}/{1}/{2:0>2d}/STFC/medium/SEVP_NMC_STFC_SFER_ET0_ACHN_L88_PB_{0}{1}{2:0>2d}{3}0000000.jpg'.format(year, mon, day - 1, i)\n",
    "            img = requests.get(url)\n",
    "            fiename = '{}{}h.png'.format(path, i - 17)\n",
    "            with open(fiename, 'ab') as f:\n",
    "                f.write(img.content)\n",
    "        print(f'Success {i}')\n",
    "get_pics('2021-09-27', 'img/')"
   ]
  },
  {
   "cell_type": "code",
   "execution_count": null,
   "id": "f1b98887-0305-4c88-828c-3d3e712f5a92",
   "metadata": {},
   "outputs": [],
   "source": []
  }
 ],
 "metadata": {
  "kernelspec": {
   "display_name": "Python 3 (ipykernel)",
   "language": "python",
   "name": "python3"
  },
  "language_info": {
   "codemirror_mode": {
    "name": "ipython",
    "version": 3
   },
   "file_extension": ".py",
   "mimetype": "text/x-python",
   "name": "python",
   "nbconvert_exporter": "python",
   "pygments_lexer": "ipython3",
   "version": "3.9.0"
  }
 },
 "nbformat": 4,
 "nbformat_minor": 5
}
