{
 "cells": [
  {
   "cell_type": "code",
   "execution_count": 1,
   "id": "a1255977-cf75-479f-81a2-5fbe7e8c9361",
   "metadata": {},
   "outputs": [
    {
     "name": "stdout",
     "output_type": "stream",
     "text": [
      "Success 0\n",
      "Success 1\n",
      "Success 2\n",
      "Success 3\n",
      "Success 4\n",
      "Success 5\n",
      "Success 6\n",
      "Success 7\n",
      "Success 8\n",
      "Success 9\n",
      "Success 10\n",
      "Success 11\n",
      "Success 12\n",
      "Success 13\n",
      "Success 14\n",
      "Success 15\n",
      "Success 16\n",
      "Success 17\n",
      "Success 18\n",
      "Success 19\n",
      "Success 20\n",
      "Success 21\n",
      "Success 22\n",
      "Success 23\n"
     ]
    }
   ],
   "source": [
    "import os\n",
    "import time\n",
    "import requests\n",
    "import imageio\n",
    "import cv2\n",
    "from PIL import Image\n",
    "# 抓取图片\n",
    "def get_pics(date, path):\n",
    "    year = date.split('-')[0]\n",
    "    mon = date.split('-')[1]\n",
    "    day = int(date.split('-')[2])\n",
    "    for i in range(24):\n",
    "        time.sleep(3)\n",
    "        # 08:00-24:00\n",
    "        if i < 17:\n",
    "            url = 'http://image.nmc.cn/product/{0}/{1}/{2:0>2d}/STFC/medium/SEVP_NMC_STFC_SFER_ET0_ACHN_L88_PB_{0}{1}{2:0>2d}{3:0>2d}0000000.jpg'.format(year, mon, day, i)\n",
    "            img = requests.get(url)\n",
    "            fiename = '{}{}h.png'.format(path, i + 8)\n",
    "            with open(fiename, 'ab') as f:\n",
    "                f.write(img.content)\n",
    "        # 01:00-07:00\n",
    "        else:\n",
    "            url = 'http://image.nmc.cn/product/{0}/{1}/{2:0>2d}/STFC/medium/SEVP_NMC_STFC_SFER_ET0_ACHN_L88_PB_{0}{1}{2:0>2d}{3}0000000.jpg'.format(year, mon, day - 1, i)\n",
    "            img = requests.get(url)\n",
    "            fiename = '{}{}h.png'.format(path, i - 17)\n",
    "            with open(fiename, 'ab') as f:\n",
    "                f.write(img.content)\n",
    "        print(f'Success {i}')\n",
    "get_pics('2021-09-27', 'img/')"
   ]
  },
  {
   "cell_type": "code",
   "execution_count": 2,
   "id": "f057ecd5-4427-4a27-88fc-1f6d9e95e62d",
   "metadata": {},
   "outputs": [],
   "source": [
    "# 生成gif\n",
    "def create_gif(imagelist, gifname, duration = 1.0):\n",
    "    frames = []\n",
    "    for image_name in imagelist:\n",
    "        frames.append(imageio.imread(image_name))\n",
    "    # 保存gif\n",
    "    imageio.mimsave(gifname, frames, 'GIF', duration=duration)\n",
    "# 生成video\n",
    "def create_video(imagelist,videoname):\n",
    "    image = Image.open(imagelist[0])\n",
    "    fourcc = cv2.VideoWriter_fourcc(*\"MJPG\")\n",
    "    cap_fps = 1\n",
    "    video = cv2.VideoWriter(videoname, fourcc, cap_fps, image.size)\n",
    "    for filename in imagelist:\n",
    "        img = cv2.imread(filename)\n",
    "        video.write(img)\n",
    "    video.release()\n",
    "# 读取本地图片\n",
    "def find_pics(date, path):\n",
    "    # 读取文件夹\n",
    "    imagelist = os.listdir(path)\n",
    "    gifname = '{}.gif'.format(date)\n",
    "    videoname = '{}.avi'.format(date)\n",
    "    # 排序\n",
    "    imagelist.sort(key=lambda x: int(x[:-5]))\n",
    "    imagelist = [path + ff for ff in imagelist]\n",
    "    #帧间隔\n",
    "    duration = 0.6\n",
    "    create_gif(imagelist, gifname, duration)\n",
    "    create_video(imagelist, videoname)\n",
    "find_pics('2021-09-27', 'img/')"
   ]
  }
 ],
 "metadata": {
  "kernelspec": {
   "display_name": "Python 3 (ipykernel)",
   "language": "python",
   "name": "python3"
  },
  "language_info": {
   "codemirror_mode": {
    "name": "ipython",
    "version": 3
   },
   "file_extension": ".py",
   "mimetype": "text/x-python",
   "name": "python",
   "nbconvert_exporter": "python",
   "pygments_lexer": "ipython3",
   "version": "3.9.0"
  }
 },
 "nbformat": 4,
 "nbformat_minor": 5
}
