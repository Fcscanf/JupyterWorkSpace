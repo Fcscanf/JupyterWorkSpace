{
 "cells": [
  {
   "cell_type": "code",
   "execution_count": 2,
   "metadata": {
    "scrolled": false
   },
   "outputs": [
    {
     "data": {
      "text/html": [
       "\n",
       "<script>\n",
       "    require.config({\n",
       "        paths: {\n",
       "            'chartXkcd':'https://cdn.jsdelivr.net/npm/chart.xkcd@1.1/dist/chart.xkcd.min'\n",
       "        }\n",
       "    });\n",
       "</script>\n",
       "\n",
       "<div id=\"ac8c90fb24ad4465bad464d012762b1c\" class=\"chart-container\" style=\"width: 800px\">\n",
       "        <svg id=\"chart_ac8c90fb24ad4465bad464d012762b1c\"></svg>\n",
       "    </div>\n",
       "    <script>\n",
       "        require(['chartXkcd'], function(chartXkcd) {\n",
       "            const svg_ac8c90fb24ad4465bad464d012762b1c = document.querySelector('#chart_ac8c90fb24ad4465bad464d012762b1c')\n",
       "            const chart_ac8c90fb24ad4465bad464d012762b1c = new chartXkcd.Line(svg_ac8c90fb24ad4465bad464d012762b1c, {\"title\": \"Mobile phone sales\", \"data\": {\"datasets\": [{\"label\": \"series-A\", \"data\": [57, 134, 137, 129, 145, 60, 49]}, {\"label\": \"series-B\", \"data\": [114, 55, 27, 101, 125, 27, 105]}], \"labels\": [\"Apple\", \"Huawei\", \"Xiaomi\", \"Oppo\", \"Vivo\", \"Meizu\", \"OnePlus\"]}, \"xLabel\": \"Brand\", \"yLabel\": \"Sales\", \"options\": {\"yTickCount\": 3, \"legendPosition\": 1}});\n",
       "        })\n",
       "    </script>\n"
      ],
      "text/plain": [
       "<cutecharts.render.engine.HTML at 0x1eaef7e6d00>"
      ]
     },
     "execution_count": 2,
     "metadata": {},
     "output_type": "execute_result"
    }
   ],
   "source": [
    "from cutecharts.charts import Line\n",
    "# 虚假数据\n",
    "x_data = ['Apple', 'Huawei', 'Xiaomi', 'Oppo', 'Vivo', 'Meizu', 'OnePlus']\n",
    "y_data_1 = [57, 134, 137, 129, 145, 60, 49]\n",
    "y_data_2 = [114, 55, 27, 101, 125, 27, 105]\n",
    "\n",
    "chart = Line(\"Mobile phone sales\")\n",
    "chart.set_options(\n",
    "    labels=x_data,\n",
    "    x_label=\"Brand\",\n",
    "    y_label=\"Sales\",\n",
    ")\n",
    "chart.add_series(\"series-A\", y_data_1)\n",
    "chart.add_series(\"series-B\", y_data_2)\n",
    "chart.render_notebook()"
   ]
  },
  {
   "cell_type": "code",
   "execution_count": 3,
   "metadata": {},
   "outputs": [
    {
     "data": {
      "text/html": [
       "\n",
       "<script>\n",
       "    require.config({\n",
       "        paths: {\n",
       "            'chartXkcd':'https://cdn.jsdelivr.net/npm/chart.xkcd@1.1/dist/chart.xkcd.min'\n",
       "        }\n",
       "    });\n",
       "</script>\n",
       "\n",
       "<div id=\"dd62b932854843908aa5845740c8eecd\" class=\"chart-container\" style=\"width: 800px\">\n",
       "        <svg id=\"chart_dd62b932854843908aa5845740c8eecd\"></svg>\n",
       "    </div>\n",
       "    <script>\n",
       "        require(['chartXkcd'], function(chartXkcd) {\n",
       "            const svg_dd62b932854843908aa5845740c8eecd = document.querySelector('#chart_dd62b932854843908aa5845740c8eecd')\n",
       "            const chart_dd62b932854843908aa5845740c8eecd = new chartXkcd.Line(svg_dd62b932854843908aa5845740c8eecd, {\"title\": \"Mobile phone sales\", \"data\": {\"datasets\": [{\"label\": \"series-A\", \"data\": [57, 134, 137, 129, 145, 60, 49]}, {\"label\": \"series-B\", \"data\": [114, 55, 27, 101, 125, 27, 105]}], \"labels\": [\"Apple\", \"Huawei\", \"Xiaomi\", \"Oppo\", \"Vivo\", \"Meizu\", \"OnePlus\"]}, \"xLabel\": \"Brand\", \"yLabel\": \"Sales\", \"options\": {\"yTickCount\": 3, \"legendPosition\": 2}});\n",
       "        })\n",
       "    </script>\n"
      ],
      "text/plain": [
       "<cutecharts.render.engine.HTML at 0x1eaef7e6dc0>"
      ]
     },
     "execution_count": 3,
     "metadata": {},
     "output_type": "execute_result"
    }
   ],
   "source": [
    "from cutecharts.charts import Line\n",
    "# 虚假数据\n",
    "x_data = ['Apple', 'Huawei', 'Xiaomi', 'Oppo', 'Vivo', 'Meizu', 'OnePlus']\n",
    "y_data_1 = [57, 134, 137, 129, 145, 60, 49]\n",
    "y_data_2 = [114, 55, 27, 101, 125, 27, 105]\n",
    "\n",
    "chart = Line(\"Mobile phone sales\")\n",
    "chart.set_options(\n",
    "    labels=x_data, \n",
    "    x_label=\"Brand\", \n",
    "    y_label=\"Sales\",\n",
    "    legend_pos=\"upRight\"\n",
    ")\n",
    "chart.add_series(\"series-A\", y_data_1)\n",
    "chart.add_series(\"series-B\", y_data_2)\n",
    "chart.render_notebook()"
   ]
  },
  {
   "cell_type": "code",
   "execution_count": null,
   "metadata": {
    "pycharm": {
     "is_executing": true
    }
   },
   "outputs": [],
   "source": [
    "from cutecharts.charts import Bar\n",
    "from cutecharts.faker import Faker\n",
    "\n",
    "# 虚假数据\n",
    "x_data = ['Apple', 'Huawei', 'Xiaomi', 'Oppo', 'Vivo', 'Meizu', 'OnePlus']\n",
    "y_data = [57, 134, 137, 129, 145, 60, 49]\n",
    "\n",
    "chart = Bar(\"Mobile phone sales\")\n",
    "chart.set_options(\n",
    "    labels=x_data, \n",
    "    x_label=\"Brand\", \n",
    "    y_label=\"Sales\",\n",
    "    colors=Faker.colors\n",
    ")\n",
    "chart.add_series(\"series-A\", y_data)\n",
    "\n",
    "chart.render_notebook()"
   ]
  },
  {
   "cell_type": "code",
   "execution_count": 7,
   "metadata": {},
   "outputs": [
    {
     "data": {
      "text/html": [
       "\n",
       "<script>\n",
       "    require.config({\n",
       "        paths: {\n",
       "            'chartXkcd':'https://cdn.jsdelivr.net/npm/chart.xkcd@1.1/dist/chart.xkcd.min'\n",
       "        }\n",
       "    });\n",
       "</script>\n",
       "\n",
       "<div id=\"1130e4b223ac4bd2a1e733bc8e4d180b\" class=\"chart-container\" style=\"width: 800px\">\n",
       "        <svg id=\"chart_1130e4b223ac4bd2a1e733bc8e4d180b\"></svg>\n",
       "    </div>\n",
       "    <script>\n",
       "        require(['chartXkcd'], function(chartXkcd) {\n",
       "            const svg_1130e4b223ac4bd2a1e733bc8e4d180b = document.querySelector('#chart_1130e4b223ac4bd2a1e733bc8e4d180b')\n",
       "            const chart_1130e4b223ac4bd2a1e733bc8e4d180b = new chartXkcd.Pie(svg_1130e4b223ac4bd2a1e733bc8e4d180b, {\"title\": \"Mobile phone sales\", \"data\": {\"datasets\": [{\"data\": [57, 134, 137, 129, 145, 60, 49]}], \"labels\": [\"Apple\", \"Huawei\", \"Xiaomi\", \"Oppo\", \"Vivo\", \"Meizu\", \"OnePlus\"]}, \"options\": {\"innerRadius\": 0.5, \"legendPosition\": 1, \"dataColors\": [\"#c23531\", \"#2f4554\", \"#61a0a8\", \"#d48265\", \"#749f83\", \"#ca8622\", \"#bda29a\"]}});\n",
       "        })\n",
       "    </script>\n"
      ],
      "text/plain": [
       "<cutecharts.render.engine.HTML at 0x1eaefd3ce50>"
      ]
     },
     "execution_count": 7,
     "metadata": {},
     "output_type": "execute_result"
    }
   ],
   "source": [
    "from cutecharts.charts import Pie\n",
    "from cutecharts.faker import Faker\n",
    "\n",
    "# 虚假数据\n",
    "x_data = ['Apple', 'Huawei', 'Xiaomi', 'Oppo', 'Vivo', 'Meizu', 'OnePlus']\n",
    "y_data = [57, 134, 137, 129, 145, 60, 49]\n",
    "\n",
    "chart = Pie(\"Mobile phone sales\")\n",
    "chart.set_options(\n",
    "    labels=x_data,\n",
    "    colors=Faker.colors\n",
    ")\n",
    "chart.add_series(y_data)\n",
    "\n",
    "chart.render_notebook()"
   ]
  },
  {
   "cell_type": "code",
   "execution_count": 8,
   "metadata": {},
   "outputs": [
    {
     "data": {
      "text/html": [
       "\n",
       "<script>\n",
       "    require.config({\n",
       "        paths: {\n",
       "            'chartXkcd':'https://cdn.jsdelivr.net/npm/chart.xkcd@1.1/dist/chart.xkcd.min'\n",
       "        }\n",
       "    });\n",
       "</script>\n",
       "\n",
       "<div id=\"815ca721607749ad90ade3d240c754da\" class=\"chart-container\" style=\"width: 800px\">\n",
       "        <svg id=\"chart_815ca721607749ad90ade3d240c754da\"></svg>\n",
       "    </div>\n",
       "    <script>\n",
       "        require(['chartXkcd'], function(chartXkcd) {\n",
       "            const svg_815ca721607749ad90ade3d240c754da = document.querySelector('#chart_815ca721607749ad90ade3d240c754da')\n",
       "            const chart_815ca721607749ad90ade3d240c754da = new chartXkcd.Pie(svg_815ca721607749ad90ade3d240c754da, {\"title\": \"Mobile phone sales\", \"data\": {\"datasets\": [{\"data\": [57, 134, 137, 129, 145, 60, 49]}], \"labels\": [\"Apple\", \"Huawei\", \"Xiaomi\", \"Oppo\", \"Vivo\", \"Meizu\", \"OnePlus\"]}, \"options\": {\"innerRadius\": 0, \"legendPosition\": 1, \"dataColors\": [\"#c23531\", \"#2f4554\", \"#61a0a8\", \"#d48265\", \"#749f83\", \"#ca8622\", \"#bda29a\"]}});\n",
       "        })\n",
       "    </script>\n"
      ],
      "text/plain": [
       "<cutecharts.render.engine.HTML at 0x1eaeffafdc0>"
      ]
     },
     "execution_count": 8,
     "metadata": {},
     "output_type": "execute_result"
    }
   ],
   "source": [
    "from cutecharts.charts import Pie\n",
    "from cutecharts.faker import Faker\n",
    "# 虚假数据\n",
    "x_data = ['Apple', 'Huawei', 'Xiaomi', 'Oppo', 'Vivo', 'Meizu', 'OnePlus']\n",
    "y_data = [57, 134, 137, 129, 145, 60, 49]\n",
    "\n",
    "chart = Pie(\"Mobile phone sales\")\n",
    "chart.set_options(\n",
    "    labels=x_data, \n",
    "    inner_radius=0,\n",
    "    colors=Faker.colors\n",
    ")\n",
    "chart.add_series(y_data)\n",
    "\n",
    "chart.render_notebook()"
   ]
  },
  {
   "cell_type": "code",
   "execution_count": null,
   "metadata": {},
   "outputs": [],
   "source": [
    "from cutecharts.charts import Radar\n",
    "from cutecharts.faker import Faker\n",
    "\n",
    "# 虚假数据\n",
    "x_data = ['Apple', 'Huawei', 'Xiaomi', 'Oppo', 'Vivo', 'Meizu', 'OnePlus']\n",
    "y_data_1 = [57, 134, 137, 129, 145, 60, 49]\n",
    "y_data_2 = [114, 55, 27, 101, 125, 27, 105]\n",
    "\n",
    "chart = Radar(\"Mobile phone sales\")\n",
    "chart.set_options(\n",
    "    labels=x_data,\n",
    "    is_show_legend=True,\n",
    "    colors=Faker.colors\n",
    ")\n",
    "chart.add_series(\"series-A\", y_data_1)\n",
    "chart.add_series(\"series-B\", y_data_2)\n",
    "chart.render_notebook()"
   ]
  },
  {
   "cell_type": "code",
   "execution_count": null,
   "metadata": {
    "pycharm": {
     "name": "#%%\n"
    }
   },
   "outputs": [],
   "source": [
    "import random\n",
    "from cutecharts.charts import Scatter\n",
    "\n",
    "# 随机生成数据\n",
    "data_1 = [(random.randint(0, 100), random.randint(0, 100)) for _ in range(100)]\n",
    "data_2 = [(random.randint(0, 100), random.randint(0, 100)) for _ in range(100)]\n",
    "\n",
    "chart = Scatter(\"random dot\")\n",
    "chart.set_options(\n",
    "    x_label = \"I'm x-label\",\n",
    "    y_label = \"I'm x-yabel\",\n",
    "    x_tick_count = 3,\n",
    "    y_tick_count = 3,\n",
    "    is_show_line = False,\n",
    "    dot_size = 1,\n",
    "    legend_pos = \"upLeft\",\n",
    "    colors=Faker.colors\n",
    ")\n",
    "chart.add_series(\"series-A\", data_1)\n",
    "chart.add_series(\"series-A\", data_2)\n",
    "chart.render_notebook()"
   ]
  },
  {
   "cell_type": "code",
   "execution_count": null,
   "metadata": {
    "pycharm": {
     "name": "#%%\n"
    }
   },
   "outputs": [],
   "source": [
    "import random\n",
    "from cutecharts.charts import Scatter\n",
    "\n",
    "# 随机生成数据\n",
    "data_1 = [(random.randint(0, 100), random.randint(0, 100)) for _ in range(10)]\n",
    "data_2 = [(random.randint(0, 100), random.randint(0, 100)) for _ in range(10)]\n",
    "\n",
    "chart = Scatter(\"random dot\")\n",
    "chart.set_options(\n",
    "    x_label = \"I'm x-label\",\n",
    "    y_label = \"I'm x-yabel\",\n",
    "    x_tick_count = 3,\n",
    "    y_tick_count = 3,\n",
    "    is_show_line = True,\n",
    "    dot_size = 1,\n",
    "    legend_pos = \"upLeft\",\n",
    "    colors=Faker.colors\n",
    ")\n",
    "chart.add_series(\"series-A\", data_1)\n",
    "chart.add_series(\"series-A\", data_2)\n",
    "chart.render_notebook()"
   ]
  },
  {
   "cell_type": "code",
   "execution_count": 13,
   "metadata": {
    "pycharm": {
     "name": "#%%\n"
    }
   },
   "outputs": [
    {
     "data": {
      "text/html": [
       "\n",
       "<script>\n",
       "    require.config({\n",
       "        paths: {\n",
       "           'chartXkcd':'https://cdn.jsdelivr.net/npm/chart.xkcd@1.1/dist/chart.xkcd.min'\n",
       "        }\n",
       "    });\n",
       "</script>\n",
       "\n",
       "    <div id=\"b44fbab362be4835b91a473982eb95c5\" class=\"chart-container\" style=\"width: 800px\">\n",
       "        <svg id=\"chart_b44fbab362be4835b91a473982eb95c5\"></svg>\n",
       "    </div>\n",
       "    <script>\n",
       "        require(['chartXkcd'], function(chartXkcd) {\n",
       "            const svg_b44fbab362be4835b91a473982eb95c5 = document.querySelector('#chart_b44fbab362be4835b91a473982eb95c5')\n",
       "            const chart_b44fbab362be4835b91a473982eb95c5 = new chartXkcd.Pie(svg_b44fbab362be4835b91a473982eb95c5, {\"title\": \"Mobile phone sales\", \"data\": {\"datasets\": [{\"data\": [57, 134, 137, 129, 145, 60, 49]}], \"labels\": [\"Apple\", \"Huawei\", \"Xiaomi\", \"Oppo\", \"Vivo\", \"Meizu\", \"OnePlus\"]}, \"options\": {\"innerRadius\": 0.6, \"legendPosition\": 1, \"dataColors\": [\"#c23531\", \"#2f4554\", \"#61a0a8\", \"#d48265\", \"#749f83\", \"#ca8622\", \"#bda29a\"]}});\n",
       "        })\n",
       "    </script>\n",
       "    <div id=\"e18d10f9943646aaa50d93954bb9f53c\" class=\"chart-container\" style=\"width: 800px\">\n",
       "        <svg id=\"chart_e18d10f9943646aaa50d93954bb9f53c\"></svg>\n",
       "    </div>\n",
       "    <script>\n",
       "        require(['chartXkcd'], function(chartXkcd) {\n",
       "            const svg_e18d10f9943646aaa50d93954bb9f53c = document.querySelector('#chart_e18d10f9943646aaa50d93954bb9f53c')\n",
       "            const chart_e18d10f9943646aaa50d93954bb9f53c = new chartXkcd.Bar(svg_e18d10f9943646aaa50d93954bb9f53c, {\"title\": \"Mobile phone sales\", \"data\": {\"datasets\": [{\"label\": \"series-A\", \"data\": [57, 134, 137, 129, 145, 60, 49]}], \"labels\": [\"Apple\", \"Huawei\", \"Xiaomi\", \"Oppo\", \"Vivo\", \"Meizu\", \"OnePlus\"]}, \"xLabel\": \"Brand\", \"yLabel\": \"Sales\", \"options\": {\"yTickCount\": 3, \"dataColors\": [\"#c23531\", \"#2f4554\", \"#61a0a8\", \"#d48265\", \"#749f83\", \"#ca8622\", \"#bda29a\"]}});\n",
       "        })\n",
       "    </script>\n"
      ],
      "text/plain": [
       "<cutecharts.render.engine.HTML at 0x1eaf00cddc0>"
      ]
     },
     "execution_count": 13,
     "metadata": {},
     "output_type": "execute_result"
    }
   ],
   "source": [
    "from cutecharts.components import Page\n",
    "\n",
    "# 虚假数据\n",
    "x_data = ['Apple', 'Huawei', 'Xiaomi', 'Oppo', 'Vivo', 'Meizu', 'OnePlus']\n",
    "y_data = [57, 134, 137, 129, 145, 60, 49]\n",
    "\n",
    "chart_1 = Pie(\"Mobile phone sales\")\n",
    "chart_1.set_options(\n",
    "    labels=x_data,\n",
    "    inner_radius=0.6,\n",
    "    colors=Faker.colors\n",
    ")\n",
    "chart_1.add_series(y_data)\n",
    "\n",
    "\n",
    "chart_2 = Bar(\"Mobile phone sales\")\n",
    "chart_2.set_options(\n",
    "    labels=x_data,\n",
    "    x_label=\"Brand\",\n",
    "    y_label=\"Sales\",\n",
    "    colors=Faker.colors\n",
    ")\n",
    "chart_2.add_series(\"series-A\", y_data)\n",
    "\n",
    "page = Page()\n",
    "page.add(chart_1, chart_2)\n",
    "page.render_notebook()"
   ]
  },
  {
   "cell_type": "code",
   "execution_count": null,
   "metadata": {},
   "outputs": [],
   "source": []
  }
 ],
 "metadata": {
  "kernelspec": {
   "display_name": "Python 3 (ipykernel)",
   "language": "python",
   "name": "python3"
  },
  "language_info": {
   "codemirror_mode": {
    "name": "ipython",
    "version": 3
   },
   "file_extension": ".py",
   "mimetype": "text/x-python",
   "name": "python",
   "nbconvert_exporter": "python",
   "pygments_lexer": "ipython3",
   "version": "3.9.0"
  }
 },
 "nbformat": 4,
 "nbformat_minor": 1
}