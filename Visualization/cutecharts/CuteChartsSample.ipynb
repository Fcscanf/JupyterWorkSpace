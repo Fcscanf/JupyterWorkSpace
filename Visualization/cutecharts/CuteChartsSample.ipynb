{
 "cells": [
  {
   "cell_type": "code",
   "execution_count": 10,
   "metadata": {},
   "outputs": [
    {
     "data": {
      "text/html": [
       "\n",
       "<script>\n",
       "    require.config({\n",
       "        paths: {\n",
       "            'chartXkcd':'https://cdn.jsdelivr.net/npm/chart.xkcd@1.1/dist/chart.xkcd.min'\n",
       "        }\n",
       "    });\n",
       "</script>\n",
       "\n",
       "<div id=\"08144f4ea7ed41268e831611337fe236\" class=\"chart-container\" style=\"width: 800px\">\n",
       "        <svg id=\"chart_08144f4ea7ed41268e831611337fe236\"></svg>\n",
       "    </div>\n",
       "    <script>\n",
       "        require(['chartXkcd'], function(chartXkcd) {\n",
       "            const svg_08144f4ea7ed41268e831611337fe236 = document.querySelector('#chart_08144f4ea7ed41268e831611337fe236')\n",
       "            const chart_08144f4ea7ed41268e831611337fe236 = new chartXkcd.Line(svg_08144f4ea7ed41268e831611337fe236, {\"title\": \"Mobile phone sales\", \"data\": {\"datasets\": [{\"label\": \"series-A\", \"data\": [57, 134, 137, 129, 145, 60, 49]}, {\"label\": \"series-B\", \"data\": [114, 55, 27, 101, 125, 27, 105]}], \"labels\": [\"Apple\", \"Huawei\", \"Xiaomi\", \"Oppo\", \"Vivo\", \"Meizu\", \"OnePlus\"]}, \"xLabel\": \"Brand\", \"yLabel\": \"Sales\", \"options\": {\"yTickCount\": 3, \"legendPosition\": 1}});\n",
       "        })\n",
       "    </script>\n"
      ],
      "text/plain": [
       "<cutecharts.render.engine.HTML at 0x1bb6ef196a0>"
      ]
     },
     "execution_count": 10,
     "metadata": {},
     "output_type": "execute_result"
    }
   ],
   "source": [
    "from cutecharts.charts import Line\n",
    "# 虚假数据\n",
    "x_data = ['Apple', 'Huawei', 'Xiaomi', 'Oppo', 'Vivo', 'Meizu', 'OnePlus']\n",
    "y_data_1 = [57, 134, 137, 129, 145, 60, 49]\n",
    "y_data_2 = [114, 55, 27, 101, 125, 27, 105]\n",
    "\n",
    "chart = Line(\"Mobile phone sales\")\n",
    "chart.set_options(\n",
    "    labels=x_data,\n",
    "    x_label=\"Brand\",\n",
    "    y_label=\"Sales\",\n",
    ")\n",
    "chart.add_series(\"series-A\", y_data_1)\n",
    "chart.add_series(\"series-B\", y_data_2)\n",
    "chart.render_notebook()"
   ]
  },
  {
   "cell_type": "code",
   "execution_count": 11,
   "metadata": {},
   "outputs": [
    {
     "data": {
      "text/html": [
       "\n",
       "<script>\n",
       "    require.config({\n",
       "        paths: {\n",
       "            'chartXkcd':'https://cdn.jsdelivr.net/npm/chart.xkcd@1.1/dist/chart.xkcd.min'\n",
       "        }\n",
       "    });\n",
       "</script>\n",
       "\n",
       "<div id=\"ca48a8d1433c4c5c88c75d87d710dd14\" class=\"chart-container\" style=\"width: 800px\">\n",
       "        <svg id=\"chart_ca48a8d1433c4c5c88c75d87d710dd14\"></svg>\n",
       "    </div>\n",
       "    <script>\n",
       "        require(['chartXkcd'], function(chartXkcd) {\n",
       "            const svg_ca48a8d1433c4c5c88c75d87d710dd14 = document.querySelector('#chart_ca48a8d1433c4c5c88c75d87d710dd14')\n",
       "            const chart_ca48a8d1433c4c5c88c75d87d710dd14 = new chartXkcd.Line(svg_ca48a8d1433c4c5c88c75d87d710dd14, {\"title\": \"Mobile phone sales\", \"data\": {\"datasets\": [{\"label\": \"series-A\", \"data\": [57, 134, 137, 129, 145, 60, 49]}, {\"label\": \"series-B\", \"data\": [114, 55, 27, 101, 125, 27, 105]}], \"labels\": [\"Apple\", \"Huawei\", \"Xiaomi\", \"Oppo\", \"Vivo\", \"Meizu\", \"OnePlus\"]}, \"xLabel\": \"Brand\", \"yLabel\": \"Sales\", \"options\": {\"yTickCount\": 3, \"legendPosition\": 2}});\n",
       "        })\n",
       "    </script>\n"
      ],
      "text/plain": [
       "<cutecharts.render.engine.HTML at 0x1bb6ef20910>"
      ]
     },
     "execution_count": 11,
     "metadata": {},
     "output_type": "execute_result"
    }
   ],
   "source": [
    "from cutecharts.charts import Line\n",
    "# 虚假数据\n",
    "x_data = ['Apple', 'Huawei', 'Xiaomi', 'Oppo', 'Vivo', 'Meizu', 'OnePlus']\n",
    "y_data_1 = [57, 134, 137, 129, 145, 60, 49]\n",
    "y_data_2 = [114, 55, 27, 101, 125, 27, 105]\n",
    "\n",
    "chart = Line(\"Mobile phone sales\")\n",
    "chart.set_options(\n",
    "    labels=x_data, \n",
    "    x_label=\"Brand\", \n",
    "    y_label=\"Sales\",\n",
    "    legend_pos=\"upRight\"\n",
    ")\n",
    "chart.add_series(\"series-A\", y_data_1)\n",
    "chart.add_series(\"series-B\", y_data_2)\n",
    "chart.render_notebook()"
   ]
  },
  {
   "cell_type": "code",
   "execution_count": 12,
   "metadata": {
    "pycharm": {
     "is_executing": true
    }
   },
   "outputs": [
    {
     "data": {
      "text/html": [
       "\n",
       "<script>\n",
       "    require.config({\n",
       "        paths: {\n",
       "            'chartXkcd':'https://cdn.jsdelivr.net/npm/chart.xkcd@1.1/dist/chart.xkcd.min'\n",
       "        }\n",
       "    });\n",
       "</script>\n",
       "\n",
       "<div id=\"5d1ff2a9a74c48caa60f6e79a68c1abc\" class=\"chart-container\" style=\"width: 800px\">\n",
       "        <svg id=\"chart_5d1ff2a9a74c48caa60f6e79a68c1abc\"></svg>\n",
       "    </div>\n",
       "    <script>\n",
       "        require(['chartXkcd'], function(chartXkcd) {\n",
       "            const svg_5d1ff2a9a74c48caa60f6e79a68c1abc = document.querySelector('#chart_5d1ff2a9a74c48caa60f6e79a68c1abc')\n",
       "            const chart_5d1ff2a9a74c48caa60f6e79a68c1abc = new chartXkcd.Bar(svg_5d1ff2a9a74c48caa60f6e79a68c1abc, {\"title\": \"Mobile phone sales\", \"data\": {\"datasets\": [{\"label\": \"series-A\", \"data\": [57, 134, 137, 129, 145, 60, 49]}], \"labels\": [\"Apple\", \"Huawei\", \"Xiaomi\", \"Oppo\", \"Vivo\", \"Meizu\", \"OnePlus\"]}, \"xLabel\": \"Brand\", \"yLabel\": \"Sales\", \"options\": {\"yTickCount\": 3, \"dataColors\": [\"#c23531\", \"#2f4554\", \"#61a0a8\", \"#d48265\", \"#749f83\", \"#ca8622\", \"#bda29a\"]}});\n",
       "        })\n",
       "    </script>\n"
      ],
      "text/plain": [
       "<cutecharts.render.engine.HTML at 0x1bb6ef12580>"
      ]
     },
     "execution_count": 12,
     "metadata": {},
     "output_type": "execute_result"
    }
   ],
   "source": [
    "from cutecharts.charts import Bar\n",
    "from cutecharts.faker import Faker\n",
    "\n",
    "# 虚假数据\n",
    "x_data = ['Apple', 'Huawei', 'Xiaomi', 'Oppo', 'Vivo', 'Meizu', 'OnePlus']\n",
    "y_data = [57, 134, 137, 129, 145, 60, 49]\n",
    "\n",
    "chart = Bar(\"Mobile phone sales\")\n",
    "chart.set_options(\n",
    "    labels=x_data, \n",
    "    x_label=\"Brand\", \n",
    "    y_label=\"Sales\",\n",
    "    colors=Faker.colors\n",
    ")\n",
    "chart.add_series(\"series-A\", y_data)\n",
    "\n",
    "chart.render_notebook()"
   ]
  },
  {
   "cell_type": "code",
   "execution_count": 13,
   "metadata": {},
   "outputs": [
    {
     "data": {
      "text/html": [
       "\n",
       "<script>\n",
       "    require.config({\n",
       "        paths: {\n",
       "            'chartXkcd':'https://cdn.jsdelivr.net/npm/chart.xkcd@1.1/dist/chart.xkcd.min'\n",
       "        }\n",
       "    });\n",
       "</script>\n",
       "\n",
       "<div id=\"1f5c665566104094940cf892ae60dd17\" class=\"chart-container\" style=\"width: 800px\">\n",
       "        <svg id=\"chart_1f5c665566104094940cf892ae60dd17\"></svg>\n",
       "    </div>\n",
       "    <script>\n",
       "        require(['chartXkcd'], function(chartXkcd) {\n",
       "            const svg_1f5c665566104094940cf892ae60dd17 = document.querySelector('#chart_1f5c665566104094940cf892ae60dd17')\n",
       "            const chart_1f5c665566104094940cf892ae60dd17 = new chartXkcd.Pie(svg_1f5c665566104094940cf892ae60dd17, {\"title\": \"Mobile phone sales\", \"data\": {\"datasets\": [{\"data\": [57, 134, 137, 129, 145, 60, 49]}], \"labels\": [\"Apple\", \"Huawei\", \"Xiaomi\", \"Oppo\", \"Vivo\", \"Meizu\", \"OnePlus\"]}, \"options\": {\"innerRadius\": 0.5, \"legendPosition\": 1, \"dataColors\": [\"#c23531\", \"#2f4554\", \"#61a0a8\", \"#d48265\", \"#749f83\", \"#ca8622\", \"#bda29a\"]}});\n",
       "        })\n",
       "    </script>\n"
      ],
      "text/plain": [
       "<cutecharts.render.engine.HTML at 0x1bb6f108850>"
      ]
     },
     "execution_count": 13,
     "metadata": {},
     "output_type": "execute_result"
    }
   ],
   "source": [
    "from cutecharts.charts import Pie\n",
    "from cutecharts.faker import Faker\n",
    "\n",
    "# 虚假数据\n",
    "x_data = ['Apple', 'Huawei', 'Xiaomi', 'Oppo', 'Vivo', 'Meizu', 'OnePlus']\n",
    "y_data = [57, 134, 137, 129, 145, 60, 49]\n",
    "\n",
    "chart = Pie(\"Mobile phone sales\")\n",
    "chart.set_options(\n",
    "    labels=x_data,\n",
    "    colors=Faker.colors\n",
    ")\n",
    "chart.add_series(y_data)\n",
    "\n",
    "chart.render_notebook()"
   ]
  },
  {
   "cell_type": "code",
   "execution_count": 14,
   "metadata": {},
   "outputs": [
    {
     "data": {
      "text/html": [
       "\n",
       "<script>\n",
       "    require.config({\n",
       "        paths: {\n",
       "            'chartXkcd':'https://cdn.jsdelivr.net/npm/chart.xkcd@1.1/dist/chart.xkcd.min'\n",
       "        }\n",
       "    });\n",
       "</script>\n",
       "\n",
       "<div id=\"59f70464fd0e441c8e9386740378df6e\" class=\"chart-container\" style=\"width: 800px\">\n",
       "        <svg id=\"chart_59f70464fd0e441c8e9386740378df6e\"></svg>\n",
       "    </div>\n",
       "    <script>\n",
       "        require(['chartXkcd'], function(chartXkcd) {\n",
       "            const svg_59f70464fd0e441c8e9386740378df6e = document.querySelector('#chart_59f70464fd0e441c8e9386740378df6e')\n",
       "            const chart_59f70464fd0e441c8e9386740378df6e = new chartXkcd.Pie(svg_59f70464fd0e441c8e9386740378df6e, {\"title\": \"Mobile phone sales\", \"data\": {\"datasets\": [{\"data\": [57, 134, 137, 129, 145, 60, 49]}], \"labels\": [\"Apple\", \"Huawei\", \"Xiaomi\", \"Oppo\", \"Vivo\", \"Meizu\", \"OnePlus\"]}, \"options\": {\"innerRadius\": 0, \"legendPosition\": 1, \"dataColors\": [\"#c23531\", \"#2f4554\", \"#61a0a8\", \"#d48265\", \"#749f83\", \"#ca8622\", \"#bda29a\"]}});\n",
       "        })\n",
       "    </script>\n"
      ],
      "text/plain": [
       "<cutecharts.render.engine.HTML at 0x1bb6f0ce310>"
      ]
     },
     "execution_count": 14,
     "metadata": {},
     "output_type": "execute_result"
    }
   ],
   "source": [
    "from cutecharts.charts import Pie\n",
    "from cutecharts.faker import Faker\n",
    "# 虚假数据\n",
    "x_data = ['Apple', 'Huawei', 'Xiaomi', 'Oppo', 'Vivo', 'Meizu', 'OnePlus']\n",
    "y_data = [57, 134, 137, 129, 145, 60, 49]\n",
    "\n",
    "chart = Pie(\"Mobile phone sales\")\n",
    "chart.set_options(\n",
    "    labels=x_data, \n",
    "    inner_radius=0,\n",
    "    colors=Faker.colors\n",
    ")\n",
    "chart.add_series(y_data)\n",
    "\n",
    "chart.render_notebook()"
   ]
  },
  {
   "cell_type": "code",
   "execution_count": 15,
   "metadata": {},
   "outputs": [
    {
     "data": {
      "text/html": [
       "\n",
       "<script>\n",
       "    require.config({\n",
       "        paths: {\n",
       "            'chartXkcd':'https://cdn.jsdelivr.net/npm/chart.xkcd@1.1/dist/chart.xkcd.min'\n",
       "        }\n",
       "    });\n",
       "</script>\n",
       "\n",
       "<div id=\"098c3b745f384e8599871212bf2499a6\" class=\"chart-container\" style=\"width: 800px\">\n",
       "        <svg id=\"chart_098c3b745f384e8599871212bf2499a6\"></svg>\n",
       "    </div>\n",
       "    <script>\n",
       "        require(['chartXkcd'], function(chartXkcd) {\n",
       "            const svg_098c3b745f384e8599871212bf2499a6 = document.querySelector('#chart_098c3b745f384e8599871212bf2499a6')\n",
       "            const chart_098c3b745f384e8599871212bf2499a6 = new chartXkcd.Radar(svg_098c3b745f384e8599871212bf2499a6, {\"title\": \"Mobile phone sales\", \"data\": {\"datasets\": [{\"label\": \"series-A\", \"data\": [57, 134, 137, 129, 145, 60, 49]}, {\"label\": \"series-B\", \"data\": [114, 55, 27, 101, 125, 27, 105]}], \"labels\": [\"Apple\", \"Huawei\", \"Xiaomi\", \"Oppo\", \"Vivo\", \"Meizu\", \"OnePlus\"]}, \"options\": {\"showLegend\": true, \"showLabel\": true, \"tickCount\": 3, \"legendPosition\": 1, \"dataColors\": [\"#c23531\", \"#2f4554\", \"#61a0a8\", \"#d48265\", \"#749f83\", \"#ca8622\", \"#bda29a\"]}});\n",
       "        })\n",
       "    </script>\n"
      ],
      "text/plain": [
       "<cutecharts.render.engine.HTML at 0x1bb6f108910>"
      ]
     },
     "execution_count": 15,
     "metadata": {},
     "output_type": "execute_result"
    }
   ],
   "source": [
    "from cutecharts.charts import Radar\n",
    "from cutecharts.faker import Faker\n",
    "\n",
    "# 虚假数据\n",
    "x_data = ['Apple', 'Huawei', 'Xiaomi', 'Oppo', 'Vivo', 'Meizu', 'OnePlus']\n",
    "y_data_1 = [57, 134, 137, 129, 145, 60, 49]\n",
    "y_data_2 = [114, 55, 27, 101, 125, 27, 105]\n",
    "\n",
    "chart = Radar(\"Mobile phone sales\")\n",
    "chart.set_options(\n",
    "    labels=x_data,\n",
    "    is_show_legend=True,\n",
    "    colors=Faker.colors\n",
    ")\n",
    "chart.add_series(\"series-A\", y_data_1)\n",
    "chart.add_series(\"series-B\", y_data_2)\n",
    "chart.render_notebook()"
   ]
  },
  {
   "cell_type": "code",
   "execution_count": 16,
   "metadata": {
    "pycharm": {
     "name": "#%%\n"
    }
   },
   "outputs": [
    {
     "data": {
      "text/html": [
       "\n",
       "<script>\n",
       "    require.config({\n",
       "        paths: {\n",
       "            'chartXkcd':'https://cdn.jsdelivr.net/npm/chart.xkcd@1.1/dist/chart.xkcd.min'\n",
       "        }\n",
       "    });\n",
       "</script>\n",
       "\n",
       "<div id=\"7bfaf19ae63c4023a398cebce0ae5899\" class=\"chart-container\" style=\"width: 800px\">\n",
       "        <svg id=\"chart_7bfaf19ae63c4023a398cebce0ae5899\"></svg>\n",
       "    </div>\n",
       "    <script>\n",
       "        require(['chartXkcd'], function(chartXkcd) {\n",
       "            const svg_7bfaf19ae63c4023a398cebce0ae5899 = document.querySelector('#chart_7bfaf19ae63c4023a398cebce0ae5899')\n",
       "            const chart_7bfaf19ae63c4023a398cebce0ae5899 = new chartXkcd.XY(svg_7bfaf19ae63c4023a398cebce0ae5899, {\"title\": \"random dot\", \"data\": {\"datasets\": [{\"label\": \"series-A\", \"data\": [{\"x\": 92, \"y\": 85}, {\"x\": 23, \"y\": 16}, {\"x\": 98, \"y\": 88}, {\"x\": 39, \"y\": 33}, {\"x\": 93, \"y\": 12}, {\"x\": 18, \"y\": 69}, {\"x\": 55, \"y\": 71}, {\"x\": 0, \"y\": 64}, {\"x\": 9, \"y\": 80}, {\"x\": 17, \"y\": 60}, {\"x\": 12, \"y\": 32}, {\"x\": 59, \"y\": 77}, {\"x\": 40, \"y\": 20}, {\"x\": 61, \"y\": 47}, {\"x\": 38, \"y\": 46}, {\"x\": 27, \"y\": 3}, {\"x\": 42, \"y\": 77}, {\"x\": 36, \"y\": 70}, {\"x\": 11, \"y\": 22}, {\"x\": 0, \"y\": 71}, {\"x\": 92, \"y\": 57}, {\"x\": 47, \"y\": 25}, {\"x\": 45, \"y\": 36}, {\"x\": 53, \"y\": 35}, {\"x\": 40, \"y\": 81}, {\"x\": 57, \"y\": 67}, {\"x\": 45, \"y\": 36}, {\"x\": 85, \"y\": 67}, {\"x\": 71, \"y\": 69}, {\"x\": 11, \"y\": 57}, {\"x\": 18, \"y\": 49}, {\"x\": 51, \"y\": 11}, {\"x\": 91, \"y\": 66}, {\"x\": 28, \"y\": 83}, {\"x\": 32, \"y\": 3}, {\"x\": 12, \"y\": 24}, {\"x\": 28, \"y\": 55}, {\"x\": 63, \"y\": 87}, {\"x\": 99, \"y\": 72}, {\"x\": 32, \"y\": 51}, {\"x\": 23, \"y\": 50}, {\"x\": 46, \"y\": 96}, {\"x\": 95, \"y\": 5}, {\"x\": 22, \"y\": 54}, {\"x\": 53, \"y\": 73}, {\"x\": 44, \"y\": 6}, {\"x\": 1, \"y\": 9}, {\"x\": 60, \"y\": 2}, {\"x\": 50, \"y\": 21}, {\"x\": 9, \"y\": 15}, {\"x\": 9, \"y\": 7}, {\"x\": 74, \"y\": 79}, {\"x\": 47, \"y\": 72}, {\"x\": 66, \"y\": 44}, {\"x\": 44, \"y\": 96}, {\"x\": 28, \"y\": 5}, {\"x\": 26, \"y\": 44}, {\"x\": 30, \"y\": 51}, {\"x\": 98, \"y\": 74}, {\"x\": 42, \"y\": 38}, {\"x\": 75, \"y\": 75}, {\"x\": 72, \"y\": 56}, {\"x\": 98, \"y\": 16}, {\"x\": 12, \"y\": 31}, {\"x\": 32, \"y\": 58}, {\"x\": 65, \"y\": 27}, {\"x\": 14, \"y\": 29}, {\"x\": 20, \"y\": 31}, {\"x\": 62, \"y\": 85}, {\"x\": 72, \"y\": 90}, {\"x\": 60, \"y\": 89}, {\"x\": 45, \"y\": 88}, {\"x\": 73, \"y\": 85}, {\"x\": 51, \"y\": 45}, {\"x\": 42, \"y\": 22}, {\"x\": 31, \"y\": 64}, {\"x\": 39, \"y\": 17}, {\"x\": 77, \"y\": 34}, {\"x\": 75, \"y\": 92}, {\"x\": 40, \"y\": 28}, {\"x\": 26, \"y\": 26}, {\"x\": 15, \"y\": 83}, {\"x\": 46, \"y\": 38}, {\"x\": 54, \"y\": 61}, {\"x\": 90, \"y\": 90}, {\"x\": 49, \"y\": 12}, {\"x\": 100, \"y\": 80}, {\"x\": 10, \"y\": 5}, {\"x\": 73, \"y\": 44}, {\"x\": 87, \"y\": 35}, {\"x\": 88, \"y\": 76}, {\"x\": 19, \"y\": 18}, {\"x\": 77, \"y\": 50}, {\"x\": 67, \"y\": 31}, {\"x\": 66, \"y\": 60}, {\"x\": 97, \"y\": 82}, {\"x\": 80, \"y\": 59}, {\"x\": 46, \"y\": 59}, {\"x\": 42, \"y\": 24}, {\"x\": 51, \"y\": 13}]}, {\"label\": \"series-A\", \"data\": [{\"x\": 21, \"y\": 87}, {\"x\": 7, \"y\": 18}, {\"x\": 43, \"y\": 92}, {\"x\": 45, \"y\": 21}, {\"x\": 1, \"y\": 49}, {\"x\": 98, \"y\": 91}, {\"x\": 92, \"y\": 77}, {\"x\": 43, \"y\": 80}, {\"x\": 45, \"y\": 30}, {\"x\": 7, \"y\": 89}, {\"x\": 62, \"y\": 71}, {\"x\": 17, \"y\": 92}, {\"x\": 3, \"y\": 92}, {\"x\": 79, \"y\": 75}, {\"x\": 49, \"y\": 46}, {\"x\": 8, \"y\": 40}, {\"x\": 67, \"y\": 32}, {\"x\": 14, \"y\": 88}, {\"x\": 81, \"y\": 23}, {\"x\": 15, \"y\": 95}, {\"x\": 42, \"y\": 9}, {\"x\": 19, \"y\": 57}, {\"x\": 78, \"y\": 71}, {\"x\": 37, \"y\": 86}, {\"x\": 45, \"y\": 14}, {\"x\": 22, \"y\": 21}, {\"x\": 11, \"y\": 93}, {\"x\": 34, \"y\": 88}, {\"x\": 76, \"y\": 43}, {\"x\": 16, \"y\": 67}, {\"x\": 61, \"y\": 14}, {\"x\": 95, \"y\": 86}, {\"x\": 21, \"y\": 68}, {\"x\": 98, \"y\": 96}, {\"x\": 80, \"y\": 90}, {\"x\": 63, \"y\": 85}, {\"x\": 83, \"y\": 22}, {\"x\": 35, \"y\": 100}, {\"x\": 33, \"y\": 40}, {\"x\": 98, \"y\": 62}, {\"x\": 62, \"y\": 13}, {\"x\": 62, \"y\": 49}, {\"x\": 54, \"y\": 76}, {\"x\": 46, \"y\": 98}, {\"x\": 11, \"y\": 80}, {\"x\": 51, \"y\": 38}, {\"x\": 79, \"y\": 30}, {\"x\": 65, \"y\": 10}, {\"x\": 32, \"y\": 52}, {\"x\": 81, \"y\": 94}, {\"x\": 43, \"y\": 16}, {\"x\": 74, \"y\": 90}, {\"x\": 47, \"y\": 3}, {\"x\": 58, \"y\": 2}, {\"x\": 22, \"y\": 100}, {\"x\": 47, \"y\": 1}, {\"x\": 34, \"y\": 63}, {\"x\": 90, \"y\": 9}, {\"x\": 70, \"y\": 63}, {\"x\": 85, \"y\": 43}, {\"x\": 82, \"y\": 57}, {\"x\": 28, \"y\": 4}, {\"x\": 70, \"y\": 48}, {\"x\": 76, \"y\": 7}, {\"x\": 61, \"y\": 21}, {\"x\": 100, \"y\": 28}, {\"x\": 58, \"y\": 71}, {\"x\": 41, \"y\": 96}, {\"x\": 24, \"y\": 55}, {\"x\": 88, \"y\": 66}, {\"x\": 27, \"y\": 84}, {\"x\": 82, \"y\": 51}, {\"x\": 44, \"y\": 41}, {\"x\": 65, \"y\": 86}, {\"x\": 19, \"y\": 38}, {\"x\": 67, \"y\": 41}, {\"x\": 52, \"y\": 57}, {\"x\": 95, \"y\": 60}, {\"x\": 26, \"y\": 7}, {\"x\": 33, \"y\": 32}, {\"x\": 100, \"y\": 89}, {\"x\": 47, \"y\": 37}, {\"x\": 49, \"y\": 31}, {\"x\": 52, \"y\": 55}, {\"x\": 15, \"y\": 56}, {\"x\": 69, \"y\": 24}, {\"x\": 60, \"y\": 4}, {\"x\": 57, \"y\": 66}, {\"x\": 47, \"y\": 17}, {\"x\": 12, \"y\": 54}, {\"x\": 58, \"y\": 52}, {\"x\": 60, \"y\": 12}, {\"x\": 17, \"y\": 8}, {\"x\": 86, \"y\": 85}, {\"x\": 91, \"y\": 43}, {\"x\": 81, \"y\": 67}, {\"x\": 10, \"y\": 58}, {\"x\": 14, \"y\": 61}, {\"x\": 31, \"y\": 58}, {\"x\": 63, \"y\": 87}]}]}, \"xLabel\": \"I'm x-label\", \"yLabel\": \"I'm x-yabel\", \"options\": {\"xTickCount\": 3, \"yTickCount\": 3, \"legendPosition\": 1, \"dataColors\": [\"#c23531\", \"#2f4554\", \"#61a0a8\", \"#d48265\", \"#749f83\", \"#ca8622\", \"#bda29a\"], \"showLine\": false, \"dotSize\": 1}});\n",
       "        })\n",
       "    </script>\n"
      ],
      "text/plain": [
       "<cutecharts.render.engine.HTML at 0x1bb6f0dc2e0>"
      ]
     },
     "execution_count": 16,
     "metadata": {},
     "output_type": "execute_result"
    }
   ],
   "source": [
    "import random\n",
    "from cutecharts.charts import Scatter\n",
    "\n",
    "# 随机生成数据\n",
    "data_1 = [(random.randint(0, 100), random.randint(0, 100)) for _ in range(100)]\n",
    "data_2 = [(random.randint(0, 100), random.randint(0, 100)) for _ in range(100)]\n",
    "\n",
    "chart = Scatter(\"random dot\")\n",
    "chart.set_options(\n",
    "    x_label = \"I'm x-label\",\n",
    "    y_label = \"I'm x-yabel\",\n",
    "    x_tick_count = 3,\n",
    "    y_tick_count = 3,\n",
    "    is_show_line = False,\n",
    "    dot_size = 1,\n",
    "    legend_pos = \"upLeft\",\n",
    "    colors=Faker.colors\n",
    ")\n",
    "chart.add_series(\"series-A\", data_1)\n",
    "chart.add_series(\"series-A\", data_2)\n",
    "chart.render_notebook()"
   ]
  },
  {
   "cell_type": "code",
   "execution_count": 17,
   "metadata": {
    "pycharm": {
     "name": "#%%\n"
    }
   },
   "outputs": [
    {
     "data": {
      "text/html": [
       "\n",
       "<script>\n",
       "    require.config({\n",
       "        paths: {\n",
       "            'chartXkcd':'https://cdn.jsdelivr.net/npm/chart.xkcd@1.1/dist/chart.xkcd.min'\n",
       "        }\n",
       "    });\n",
       "</script>\n",
       "\n",
       "<div id=\"0c595a9424d04c5795b665eb6899c129\" class=\"chart-container\" style=\"width: 800px\">\n",
       "        <svg id=\"chart_0c595a9424d04c5795b665eb6899c129\"></svg>\n",
       "    </div>\n",
       "    <script>\n",
       "        require(['chartXkcd'], function(chartXkcd) {\n",
       "            const svg_0c595a9424d04c5795b665eb6899c129 = document.querySelector('#chart_0c595a9424d04c5795b665eb6899c129')\n",
       "            const chart_0c595a9424d04c5795b665eb6899c129 = new chartXkcd.XY(svg_0c595a9424d04c5795b665eb6899c129, {\"title\": \"random dot\", \"data\": {\"datasets\": [{\"label\": \"series-A\", \"data\": [{\"x\": 26, \"y\": 63}, {\"x\": 78, \"y\": 68}, {\"x\": 4, \"y\": 68}, {\"x\": 29, \"y\": 91}, {\"x\": 40, \"y\": 38}, {\"x\": 85, \"y\": 78}, {\"x\": 9, \"y\": 19}, {\"x\": 79, \"y\": 2}, {\"x\": 1, \"y\": 15}, {\"x\": 22, \"y\": 76}]}, {\"label\": \"series-A\", \"data\": [{\"x\": 24, \"y\": 96}, {\"x\": 63, \"y\": 30}, {\"x\": 58, \"y\": 27}, {\"x\": 21, \"y\": 83}, {\"x\": 80, \"y\": 83}, {\"x\": 94, \"y\": 18}, {\"x\": 70, \"y\": 32}, {\"x\": 3, \"y\": 20}, {\"x\": 6, \"y\": 87}, {\"x\": 22, \"y\": 45}]}]}, \"xLabel\": \"I'm x-label\", \"yLabel\": \"I'm x-yabel\", \"options\": {\"xTickCount\": 3, \"yTickCount\": 3, \"legendPosition\": 1, \"dataColors\": [\"#c23531\", \"#2f4554\", \"#61a0a8\", \"#d48265\", \"#749f83\", \"#ca8622\", \"#bda29a\"], \"showLine\": true, \"dotSize\": 1}});\n",
       "        })\n",
       "    </script>\n"
      ],
      "text/plain": [
       "<cutecharts.render.engine.HTML at 0x1bb6f0cecd0>"
      ]
     },
     "execution_count": 17,
     "metadata": {},
     "output_type": "execute_result"
    }
   ],
   "source": [
    "import random\n",
    "from cutecharts.charts import Scatter\n",
    "\n",
    "# 随机生成数据\n",
    "data_1 = [(random.randint(0, 100), random.randint(0, 100)) for _ in range(10)]\n",
    "data_2 = [(random.randint(0, 100), random.randint(0, 100)) for _ in range(10)]\n",
    "\n",
    "chart = Scatter(\"random dot\")\n",
    "chart.set_options(\n",
    "    x_label = \"I'm x-label\",\n",
    "    y_label = \"I'm x-yabel\",\n",
    "    x_tick_count = 3,\n",
    "    y_tick_count = 3,\n",
    "    is_show_line = True,\n",
    "    dot_size = 1,\n",
    "    legend_pos = \"upLeft\",\n",
    "    colors=Faker.colors\n",
    ")\n",
    "chart.add_series(\"series-A\", data_1)\n",
    "chart.add_series(\"series-A\", data_2)\n",
    "chart.render_notebook()"
   ]
  },
  {
   "cell_type": "code",
   "execution_count": 18,
   "metadata": {
    "pycharm": {
     "name": "#%%\n"
    }
   },
   "outputs": [
    {
     "data": {
      "text/html": [
       "\n",
       "<script>\n",
       "    require.config({\n",
       "        paths: {\n",
       "           'chartXkcd':'https://cdn.jsdelivr.net/npm/chart.xkcd@1.1/dist/chart.xkcd.min'\n",
       "        }\n",
       "    });\n",
       "</script>\n",
       "\n",
       "    <div id=\"b05669834c7a4b008e7d849360caf619\" class=\"chart-container\" style=\"width: 800px\">\n",
       "        <svg id=\"chart_b05669834c7a4b008e7d849360caf619\"></svg>\n",
       "    </div>\n",
       "    <script>\n",
       "        require(['chartXkcd'], function(chartXkcd) {\n",
       "            const svg_b05669834c7a4b008e7d849360caf619 = document.querySelector('#chart_b05669834c7a4b008e7d849360caf619')\n",
       "            const chart_b05669834c7a4b008e7d849360caf619 = new chartXkcd.Pie(svg_b05669834c7a4b008e7d849360caf619, {\"title\": \"Mobile phone sales\", \"data\": {\"datasets\": [{\"data\": [57, 134, 137, 129, 145, 60, 49]}], \"labels\": [\"Apple\", \"Huawei\", \"Xiaomi\", \"Oppo\", \"Vivo\", \"Meizu\", \"OnePlus\"]}, \"options\": {\"innerRadius\": 0.6, \"legendPosition\": 1, \"dataColors\": [\"#c23531\", \"#2f4554\", \"#61a0a8\", \"#d48265\", \"#749f83\", \"#ca8622\", \"#bda29a\"]}});\n",
       "        })\n",
       "    </script>\n",
       "    <div id=\"a61e3857832b4b499449c464f2532d02\" class=\"chart-container\" style=\"width: 800px\">\n",
       "        <svg id=\"chart_a61e3857832b4b499449c464f2532d02\"></svg>\n",
       "    </div>\n",
       "    <script>\n",
       "        require(['chartXkcd'], function(chartXkcd) {\n",
       "            const svg_a61e3857832b4b499449c464f2532d02 = document.querySelector('#chart_a61e3857832b4b499449c464f2532d02')\n",
       "            const chart_a61e3857832b4b499449c464f2532d02 = new chartXkcd.Bar(svg_a61e3857832b4b499449c464f2532d02, {\"title\": \"Mobile phone sales\", \"data\": {\"datasets\": [{\"label\": \"series-A\", \"data\": [57, 134, 137, 129, 145, 60, 49]}], \"labels\": [\"Apple\", \"Huawei\", \"Xiaomi\", \"Oppo\", \"Vivo\", \"Meizu\", \"OnePlus\"]}, \"xLabel\": \"Brand\", \"yLabel\": \"Sales\", \"options\": {\"yTickCount\": 3, \"dataColors\": [\"#c23531\", \"#2f4554\", \"#61a0a8\", \"#d48265\", \"#749f83\", \"#ca8622\", \"#bda29a\"]}});\n",
       "        })\n",
       "    </script>\n"
      ],
      "text/plain": [
       "<cutecharts.render.engine.HTML at 0x1bb6f0dc940>"
      ]
     },
     "execution_count": 18,
     "metadata": {},
     "output_type": "execute_result"
    }
   ],
   "source": [
    "from cutecharts.components import Page\n",
    "\n",
    "# 虚假数据\n",
    "x_data = ['Apple', 'Huawei', 'Xiaomi', 'Oppo', 'Vivo', 'Meizu', 'OnePlus']\n",
    "y_data = [57, 134, 137, 129, 145, 60, 49]\n",
    "\n",
    "chart_1 = Pie(\"Mobile phone sales\")\n",
    "chart_1.set_options(\n",
    "    labels=x_data,\n",
    "    inner_radius=0.6,\n",
    "    colors=Faker.colors\n",
    ")\n",
    "chart_1.add_series(y_data)\n",
    "\n",
    "\n",
    "chart_2 = Bar(\"Mobile phone sales\")\n",
    "chart_2.set_options(\n",
    "    labels=x_data,\n",
    "    x_label=\"Brand\",\n",
    "    y_label=\"Sales\",\n",
    "    colors=Faker.colors\n",
    ")\n",
    "chart_2.add_series(\"series-A\", y_data)\n",
    "\n",
    "page = Page()\n",
    "page.add(chart_1, chart_2)\n",
    "page.render_notebook()"
   ]
  }
 ],
 "metadata": {
  "kernelspec": {
   "display_name": "Python 3 (ipykernel)",
   "language": "python",
   "name": "python3"
  },
  "language_info": {
   "codemirror_mode": {
    "name": "ipython",
    "version": 3
   },
   "file_extension": ".py",
   "mimetype": "text/x-python",
   "name": "python",
   "nbconvert_exporter": "python",
   "pygments_lexer": "ipython3",
   "version": "3.9.0"
  }
 },
 "nbformat": 4,
 "nbformat_minor": 4
}