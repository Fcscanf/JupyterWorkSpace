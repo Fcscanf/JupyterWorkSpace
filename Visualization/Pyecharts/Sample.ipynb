{
 "cells": [
  {
   "cell_type": "code",
   "execution_count": 3,
   "metadata": {
    "collapsed": true
   },
   "outputs": [],
   "source": [
    "from pyecharts import options as opts\n",
    "from pyecharts.charts import Map\n",
    "from pyecharts.faker import Faker\n",
    "\n",
    "c = (\n",
    "    Map()\n",
    "    .add(\"商家A\", [list(z) for z in zip(Faker.provinces, Faker.values())], \"china\")\n",
    "    .set_global_opts(\n",
    "        title_opts=opts.TitleOpts(title=\"Map-VisualMap（分段型）\"),\n",
    "        visualmap_opts=opts.VisualMapOpts(max_=200, is_piecewise=True),\n",
    "    )\n",
    "    .render(\"map_visualmap_piecewise.html\")\n",
    ")"
   ]
  },
  {
   "cell_type": "code",
   "execution_count": 5,
   "outputs": [],
   "source": [
    "from pyecharts import options as opts\n",
    "from pyecharts.charts import Radar\n",
    "\n",
    "v1 = [[4300, 10000, 28000, 35000, 50000, 19000]]\n",
    "v2 = [[5000, 14000, 28000, 31000, 42000, 21000]]\n",
    "c = (\n",
    "    Radar()\n",
    "    .add_schema(\n",
    "        schema=[\n",
    "            opts.RadarIndicatorItem(name=\"销售\", max_=6500),\n",
    "            opts.RadarIndicatorItem(name=\"管理\", max_=16000),\n",
    "            opts.RadarIndicatorItem(name=\"信息技术\", max_=30000),\n",
    "            opts.RadarIndicatorItem(name=\"客服\", max_=38000),\n",
    "            opts.RadarIndicatorItem(name=\"研发\", max_=52000),\n",
    "            opts.RadarIndicatorItem(name=\"市场\", max_=25000),\n",
    "        ]\n",
    "    )\n",
    "    .add(\"预算分配\", v1)\n",
    "    .add(\"实际开销\", v2)\n",
    "    .set_series_opts(label_opts=opts.LabelOpts(is_show=False))\n",
    "    .set_global_opts(\n",
    "        legend_opts=opts.LegendOpts(selected_mode=\"single\"),\n",
    "        title_opts=opts.TitleOpts(title=\"Radar-单例模式\"),\n",
    "    )\n",
    "    .render(\"radar_selected_mode.html\")\n",
    ")"
   ],
   "metadata": {
    "collapsed": false
   }
  }
 ],
 "metadata": {
  "kernelspec": {
   "display_name": "Python 3",
   "language": "python",
   "name": "python3"
  },
  "language_info": {
   "codemirror_mode": {
    "name": "ipython",
    "version": 2
   },
   "file_extension": ".py",
   "mimetype": "text/x-python",
   "name": "python",
   "nbconvert_exporter": "python",
   "pygments_lexer": "ipython2",
   "version": "2.7.6"
  }
 },
 "nbformat": 4,
 "nbformat_minor": 0
}
