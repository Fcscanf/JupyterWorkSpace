{
 "cells": [
  {
   "cell_type": "code",
   "execution_count": 4,
   "metadata": {
    "collapsed": true,
    "pycharm": {
     "name": "#%%\n"
    }
   },
   "outputs": [
    {
     "data": {
      "text/plain": "<pyg2plot.helper.html.HTML at 0x22330e5dac0>",
      "text/html": "<!DOCTYPE html>\n<html>\n<head>\n  <meta charset=\"UTF-8\">\n  <title>PyG2Plot</title>\n</head>\n<body>\n  <style>\n    * {\n      margin: 0;\n      padding: 0;\n      box-sizing: border-box;\n    }\n    html, body, div.pyg2plot-plot-container { \n      height: 100%;\n      overflow: hidden;\n    }\n  </style>\n\n  <div id=\"b077d903903147d7beac0a5e45b968db\" class=\"pyg2plot-plot-container\"></div>\n\n  <script>\n    // load javascript\n    new Promise(function(resolve, reject) {\n      var script = document.createElement(\"script\");\n      script.onload = resolve;\n      script.onerror = reject;\n      script.src = \"https://unpkg.com/@antv/g2plot@2\";\n      document.head.appendChild(script);\n    }).then(() => {\n      var plot_b077d903903147d7beac0a5e45b968db = new G2Plot.Sankey(\"b077d903903147d7beac0a5e45b968db\", {\n  \"height\": 500,\n  \"data\": [\n    {\n      \"source\": \"Agricultural 'waste'\",\n      \"target\": \"Bio-conversion\",\n      \"value\": 124.729\n    },\n    {\n      \"source\": \"Bio-conversion\",\n      \"target\": \"Liquid\",\n      \"value\": 0.597\n    },\n    {\n      \"source\": \"Bio-conversion\",\n      \"target\": \"Losses\",\n      \"value\": 26.862\n    },\n    {\n      \"source\": \"Bio-conversion\",\n      \"target\": \"Solid\",\n      \"value\": 280.322\n    },\n    {\n      \"source\": \"Bio-conversion\",\n      \"target\": \"Gas\",\n      \"value\": 81.144\n    },\n    {\n      \"source\": \"Biofuel imports\",\n      \"target\": \"Liquid\",\n      \"value\": 35\n    },\n    {\n      \"source\": \"Biomass imports\",\n      \"target\": \"Solid\",\n      \"value\": 35\n    },\n    {\n      \"source\": \"Coal imports\",\n      \"target\": \"Coal\",\n      \"value\": 11.606\n    },\n    {\n      \"source\": \"Coal reserves\",\n      \"target\": \"Coal\",\n      \"value\": 63.965\n    },\n    {\n      \"source\": \"Coal\",\n      \"target\": \"Solid\",\n      \"value\": 75.571\n    },\n    {\n      \"source\": \"District heating\",\n      \"target\": \"Industry\",\n      \"value\": 10.639\n    },\n    {\n      \"source\": \"District heating\",\n      \"target\": \"Heating and cooling - commercial\",\n      \"value\": 22.505\n    },\n    {\n      \"source\": \"District heating\",\n      \"target\": \"Heating and cooling - homes\",\n      \"value\": 46.184\n    },\n    {\n      \"source\": \"Electricity grid\",\n      \"target\": \"Over generation / exports\",\n      \"value\": 104.453\n    },\n    {\n      \"source\": \"Electricity grid\",\n      \"target\": \"Heating and cooling - homes\",\n      \"value\": 113.726\n    },\n    {\n      \"source\": \"Electricity grid\",\n      \"target\": \"H2 conversion\",\n      \"value\": 27.14\n    },\n    {\n      \"source\": \"Electricity grid\",\n      \"target\": \"Industry\",\n      \"value\": 342.165\n    },\n    {\n      \"source\": \"Electricity grid\",\n      \"target\": \"Road transport\",\n      \"value\": 37.797\n    },\n    {\n      \"source\": \"Electricity grid\",\n      \"target\": \"Agriculture\",\n      \"value\": 4.412\n    },\n    {\n      \"source\": \"Electricity grid\",\n      \"target\": \"Heating and cooling - commercial\",\n      \"value\": 40.858\n    },\n    {\n      \"source\": \"Electricity grid\",\n      \"target\": \"Losses\",\n      \"value\": 56.691\n    },\n    {\n      \"source\": \"Electricity grid\",\n      \"target\": \"Rail transport\",\n      \"value\": 7.863\n    },\n    {\n      \"source\": \"Electricity grid\",\n      \"target\": \"Lighting & appliances - commercial\",\n      \"value\": 90.008\n    },\n    {\n      \"source\": \"Electricity grid\",\n      \"target\": \"Lighting & appliances - homes\",\n      \"value\": 93.494\n    },\n    {\n      \"source\": \"Gas imports\",\n      \"target\": \"Ngas\",\n      \"value\": 40.719\n    },\n    {\n      \"source\": \"Gas reserves\",\n      \"target\": \"Ngas\",\n      \"value\": 82.233\n    },\n    {\n      \"source\": \"Gas\",\n      \"target\": \"Heating and cooling - commercial\",\n      \"value\": 0.129\n    },\n    {\n      \"source\": \"Gas\",\n      \"target\": \"Losses\",\n      \"value\": 1.401\n    },\n    {\n      \"source\": \"Gas\",\n      \"target\": \"Thermal generation\",\n      \"value\": 151.891\n    },\n    {\n      \"source\": \"Gas\",\n      \"target\": \"Agriculture\",\n      \"value\": 2.096\n    },\n    {\n      \"source\": \"Gas\",\n      \"target\": \"Industry\",\n      \"value\": 48.58\n    },\n    {\n      \"source\": \"Geothermal\",\n      \"target\": \"Electricity grid\",\n      \"value\": 7.013\n    },\n    {\n      \"source\": \"H2 conversion\",\n      \"target\": \"H2\",\n      \"value\": 20.897\n    },\n    {\n      \"source\": \"H2 conversion\",\n      \"target\": \"Losses\",\n      \"value\": 6.242\n    },\n    {\n      \"source\": \"H2\",\n      \"target\": \"Road transport\",\n      \"value\": 20.897\n    },\n    {\n      \"source\": \"Hydro\",\n      \"target\": \"Electricity grid\",\n      \"value\": 6.995\n    },\n    {\n      \"source\": \"Liquid\",\n      \"target\": \"Industry\",\n      \"value\": 121.066\n    },\n    {\n      \"source\": \"Liquid\",\n      \"target\": \"International shipping\",\n      \"value\": 128.69\n    },\n    {\n      \"source\": \"Liquid\",\n      \"target\": \"Road transport\",\n      \"value\": 135.835\n    },\n    {\n      \"source\": \"Liquid\",\n      \"target\": \"Domestic aviation\",\n      \"value\": 14.458\n    },\n    {\n      \"source\": \"Liquid\",\n      \"target\": \"International aviation\",\n      \"value\": 206.267\n    },\n    {\n      \"source\": \"Liquid\",\n      \"target\": \"Agriculture\",\n      \"value\": 3.64\n    },\n    {\n      \"source\": \"Liquid\",\n      \"target\": \"National navigation\",\n      \"value\": 33.218\n    },\n    {\n      \"source\": \"Liquid\",\n      \"target\": \"Rail transport\",\n      \"value\": 4.413\n    },\n    {\n      \"source\": \"Marine algae\",\n      \"target\": \"Bio-conversion\",\n      \"value\": 4.375\n    },\n    {\n      \"source\": \"Ngas\",\n      \"target\": \"Gas\",\n      \"value\": 122.952\n    },\n    {\n      \"source\": \"Nuclear\",\n      \"target\": \"Thermal generation\",\n      \"value\": 839.978\n    },\n    {\n      \"source\": \"Oil imports\",\n      \"target\": \"Oil\",\n      \"value\": 504.287\n    },\n    {\n      \"source\": \"Oil reserves\",\n      \"target\": \"Oil\",\n      \"value\": 107.703\n    },\n    {\n      \"source\": \"Oil\",\n      \"target\": \"Liquid\",\n      \"value\": 611.99\n    },\n    {\n      \"source\": \"Other waste\",\n      \"target\": \"Solid\",\n      \"value\": 56.587\n    },\n    {\n      \"source\": \"Other waste\",\n      \"target\": \"Bio-conversion\",\n      \"value\": 77.81\n    },\n    {\n      \"source\": \"Pumped heat\",\n      \"target\": \"Heating and cooling - homes\",\n      \"value\": 193.026\n    },\n    {\n      \"source\": \"Pumped heat\",\n      \"target\": \"Heating and cooling - commercial\",\n      \"value\": 70.672\n    },\n    {\n      \"source\": \"Solar PV\",\n      \"target\": \"Electricity grid\",\n      \"value\": 59.901\n    },\n    {\n      \"source\": \"Solar Thermal\",\n      \"target\": \"Heating and cooling - homes\",\n      \"value\": 19.263\n    },\n    {\n      \"source\": \"Solar\",\n      \"target\": \"Solar Thermal\",\n      \"value\": 19.263\n    },\n    {\n      \"source\": \"Solar\",\n      \"target\": \"Solar PV\",\n      \"value\": 59.901\n    },\n    {\n      \"source\": \"Solid\",\n      \"target\": \"Agriculture\",\n      \"value\": 0.882\n    },\n    {\n      \"source\": \"Solid\",\n      \"target\": \"Thermal generation\",\n      \"value\": 400.12\n    },\n    {\n      \"source\": \"Solid\",\n      \"target\": \"Industry\",\n      \"value\": 46.477\n    },\n    {\n      \"source\": \"Thermal generation\",\n      \"target\": \"Electricity grid\",\n      \"value\": 525.531\n    },\n    {\n      \"source\": \"Thermal generation\",\n      \"target\": \"Losses\",\n      \"value\": 787.129\n    },\n    {\n      \"source\": \"Thermal generation\",\n      \"target\": \"District heating\",\n      \"value\": 79.329\n    },\n    {\n      \"source\": \"Tidal\",\n      \"target\": \"Electricity grid\",\n      \"value\": 9.452\n    },\n    {\n      \"source\": \"UK land based bioenergy\",\n      \"target\": \"Bio-conversion\",\n      \"value\": 182.01\n    },\n    {\n      \"source\": \"Wave\",\n      \"target\": \"Electricity grid\",\n      \"value\": 19.013\n    },\n    {\n      \"source\": \"Wind\",\n      \"target\": \"Electricity grid\",\n      \"value\": 289.366\n    }\n  ],\n  \"sourceField\": \"source\",\n  \"targetField\": \"target\",\n  \"weightField\": \"value\",\n  \"edgeStyle\": {\n    \"fill\": \"#ccc\",\n    \"fillOpacity\": 0.4\n  }\n}); \n      plot_b077d903903147d7beac0a5e45b968db.render();\n    });\n  </script>\n</body>\n</html>"
     },
     "execution_count": 4,
     "metadata": {},
     "output_type": "execute_result"
    }
   ],
   "source": [
    "    #导入pyg2plot\n",
    "from pyg2plot import Plot\n",
    "\n",
    "# 获取上文G2Plot代码中的json数据，存入data\n",
    "import requests\n",
    "data = requests.get(\n",
    "    \"https://gw.alipayobjects.com/os/bmw-prod/fa3414cc-75ed-47b4-8306-f2ffe8c40127.json\"\n",
    ").json()\n",
    "\n",
    "\n",
    "# 指定绘图类别Sankey\n",
    "sankey = Plot(\"Sankey\")\n",
    "\n",
    "\n",
    "#下面set_options的{}中的代码完全照搬自G2Plot，关键字添加''即可，\n",
    "sankey.set_options({\n",
    "    'height':500,\n",
    "    'data': data,\n",
    "    'sourceField': 'source',\n",
    "    'targetField': 'target',\n",
    "    'weightField': 'value',\n",
    "    'edgeStyle': {\n",
    "        'fill': '#ccc',\n",
    "        'fillOpacity': 0.4,\n",
    "    },\n",
    "})\n",
    "\n",
    "# 图像渲染\n",
    "# sankey.render_notebook()\n",
    "sankey.render_jupyter_lab()"
   ]
  }
 ],
 "metadata": {
  "kernelspec": {
   "display_name": "Python 3",
   "language": "python",
   "name": "python3"
  },
  "language_info": {
   "codemirror_mode": {
    "name": "ipython",
    "version": 2
   },
   "file_extension": ".py",
   "mimetype": "text/x-python",
   "name": "python",
   "nbconvert_exporter": "python",
   "pygments_lexer": "ipython2",
   "version": "2.7.6"
  }
 },
 "nbformat": 4,
 "nbformat_minor": 0
}